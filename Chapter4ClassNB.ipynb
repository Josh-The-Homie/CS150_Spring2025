{
  "cells": [
    {
      "cell_type": "markdown",
      "metadata": {
        "id": "view-in-github",
        "colab_type": "text"
      },
      "source": [
        "<a href=\"https://colab.research.google.com/github/Josh-The-Homie/CS150_Spring2025/blob/main/Chapter4ClassNB.ipynb\" target=\"_parent\"><img src=\"https://colab.research.google.com/assets/colab-badge.svg\" alt=\"Open In Colab\"/></a>"
      ]
    },
    {
      "cell_type": "markdown",
      "id": "54f8051d",
      "metadata": {
        "id": "54f8051d"
      },
      "source": [
        "## What We Looked At Recently\n",
        "* We looked at **list** fundamentals in Python.\n",
        "* We explained the principal differences between **functions** and **methods** in Python.\n",
        "* We looked at ways to compute some basic statistics (minimum, maximum, etc.)"
      ]
    },
    {
      "cell_type": "markdown",
      "id": "06d31007",
      "metadata": {
        "id": "06d31007"
      },
      "source": [
        "## What We'll Look At In This Module\n",
        "* We first introduce the concept of **list slicing** which offers an alternative means of manipulating lists.\n",
        "* This module reintroduces **for loops** in the context of **list comprehensions**, which are a tricky but efficient means of constructing useful lists.\n",
        "* We will look at **tuples** which serve as an _immutable_ substitute for lists.\n"
      ]
    },
    {
      "cell_type": "markdown",
      "id": "d94ffdd6",
      "metadata": {
        "id": "d94ffdd6"
      },
      "source": [
        "# Sequence Slicing\n",
        "* A commonplace Python operation is to **slice** sequences to create new sequences of the same type containing _subsets_ of the original sequence.\n",
        "* Important note: Slice operations that simply access elements can be used in identical fashion for lists, tuples (which discuss later in this module), and strings."
      ]
    },
    {
      "cell_type": "markdown",
      "id": "3efbb9c0",
      "metadata": {
        "id": "3efbb9c0"
      },
      "source": [
        "### Specifying a Slice with Starting and Ending Indices\n",
        "* A sequence slice is specified using subscription (**[]**) notation with _one_ or _two_ colons (**:**) indicating separation between starting and ending indices.\n",
        "* Use of a single colon indicates a simple range, with the left operand indicating a starting index (inclusive) and the right indicating an ending index (exclusive)."
      ]
    },
    {
      "cell_type": "code",
      "execution_count": null,
      "id": "8d3a71c1",
      "metadata": {
        "id": "8d3a71c1"
      },
      "outputs": [],
      "source": [
        "numbers = [2, 3, 5, 7, 11, 13, 17, 19]\n",
        "print(numbers[2:7])"
      ]
    },
    {
      "cell_type": "markdown",
      "id": "e678467f",
      "metadata": {
        "id": "e678467f"
      },
      "source": [
        "### Specifying a Slice with Only One Index\n",
        "* If no starting index is included, `0` is assumed.\n",
        "* If no ending index is included, the last index _(length)_ is assumed."
      ]
    },
    {
      "cell_type": "code",
      "execution_count": null,
      "id": "1cace75b",
      "metadata": {
        "id": "1cace75b"
      },
      "outputs": [],
      "source": [
        "print(numbers[:6]) #Same effect as print(numbers[0:6])"
      ]
    },
    {
      "cell_type": "code",
      "execution_count": null,
      "id": "6be4e3ec",
      "metadata": {
        "id": "6be4e3ec"
      },
      "outputs": [],
      "source": [
        "#All three of these will print the same thing!\n",
        "print(numbers[2:len(numbers)])\n",
        "print(numbers[2:])\n",
        "print(numbers[2:-1])"
      ]
    },
    {
      "cell_type": "markdown",
      "id": "18750c08",
      "metadata": {
        "id": "18750c08"
      },
      "source": [
        "### Specifying a Slice with No Indices\n",
        "* Recall that assigning one list to another simply produces a second reference to the same object.\n",
        "* By contrast, referencing a list's elements (**[:]**) will instead produce a shallow copy, which can be useful in some circumstances."
      ]
    },
    {
      "cell_type": "code",
      "execution_count": null,
      "id": "c379cd11",
      "metadata": {
        "id": "c379cd11"
      },
      "outputs": [],
      "source": [
        "numbers = [2, 3, 5, 7, 11, 13, 17, 19]\n",
        "numassign = numbers #references THE SAME OBJECT\n",
        "numcopy = numbers[:] #effectivly creates a copy of the object\n",
        "\n",
        "\n"
      ]
    },
    {
      "cell_type": "code",
      "execution_count": null,
      "id": "a19c664f",
      "metadata": {
        "id": "a19c664f"
      },
      "outputs": [],
      "source": [
        "numbers[4]=100\n",
        "print(numbers)\n",
        "print(numassign)\n",
        "print(numcopy)\n",
        "#Make certain you understand the output provided by the above statements!"
      ]
    },
    {
      "cell_type": "markdown",
      "id": "d87b37a1",
      "metadata": {
        "id": "d87b37a1"
      },
      "source": [
        "### Slicing with _Steps_\n",
        "* A value after a _second colon_ specifies the step-size when slicing (i.e. 1 = every element, 2 = every other element, etc.)\n",
        "* The step component can be used in conjunction with a starting index, stopping index, both, or neither."
      ]
    },
    {
      "cell_type": "code",
      "execution_count": null,
      "id": "ea85d034",
      "metadata": {
        "id": "ea85d034"
      },
      "outputs": [],
      "source": [
        "morenumbers=[0, 10, 20, 30, 40, 50, 60, 70, 80, 90, 100]\n",
        "print(morenumbers[2:7:2]) #print every other element in morenumbers, starting with \"20\" and ending with \"60\"\n",
        "print(morenumbers[1::3]) #print every third element in morenumbers, starting with \"10\"\n",
        "print(morenumbers[::4]) #print every fourth element in morenumbers\n"
      ]
    },
    {
      "cell_type": "markdown",
      "id": "15a409a4",
      "metadata": {
        "id": "15a409a4"
      },
      "source": [
        "### Slicing with Negative Steps\n",
        "* Using a negative step component indicates elements are selected in reverse order (starting with the first index and going BACK to the second).\n",
        "* Positive or negative indices can be used in conjunction with negative steps."
      ]
    },
    {
      "cell_type": "code",
      "execution_count": null,
      "id": "44022f47",
      "metadata": {
        "id": "44022f47"
      },
      "outputs": [],
      "source": [
        "print(morenumbers[::-1]) #All elements in reverse"
      ]
    },
    {
      "cell_type": "code",
      "execution_count": null,
      "id": "1a25b6c0",
      "metadata": {
        "id": "1a25b6c0"
      },
      "outputs": [],
      "source": [
        "print(morenumbers[5:0:-1]) #Elements from the fifth (inclusive) down to the second (not inclusive)."
      ]
    },
    {
      "cell_type": "code",
      "execution_count": null,
      "id": "c2e9687f",
      "metadata": {
        "id": "c2e9687f"
      },
      "outputs": [],
      "source": [
        "print(morenumbers[-1:-9:-2]) #Every other element starting at the last and going back to the ninth-to-last (exclusive)."
      ]
    },
    {
      "cell_type": "markdown",
      "id": "3aabf853",
      "metadata": {
        "id": "3aabf853"
      },
      "source": [
        "### The `index()` method for the list takes an input argument and returns the _first_ index in the list that has a matching value.  A _ValueError_ is generated if no match exists."
      ]
    },
    {
      "cell_type": "code",
      "execution_count": null,
      "id": "6b026568",
      "metadata": {
        "id": "6b026568"
      },
      "outputs": [],
      "source": [
        "print(morenumbers.index(70))"
      ]
    },
    {
      "cell_type": "code",
      "execution_count": null,
      "id": "67b48c61",
      "metadata": {
        "id": "67b48c61"
      },
      "outputs": [],
      "source": [
        "print(morenumbers.index(75))"
      ]
    },
    {
      "cell_type": "markdown",
      "id": "254d5aaa",
      "metadata": {
        "id": "254d5aaa"
      },
      "source": [
        "## Practice 1: Manipulating Numbers in the Fibonacci Sequence\n",
        "The first 20 numbers in the Fibonacci sequence are defined by the following list: [0, 1, 1, 2, 3, 5, 8, 13, 21, 34, 55, 89, 144, 233, 377, 610, 987, 1597, 2584, 4181] <br>\n",
        "You are to use list slicing to accomplish the following five tasks:\n",
        "* Print out _every fourth_ number in the sequence, beginning with 0\n",
        "* Print out _every fourth_ number in the sequence, beginning with 3 and ending with 987\n",
        "* Print out _every other_ number larger than one within the sequence\n",
        "* Print out the numbers in the given sequence in _reverse order_, starting with 4181 and ending with 144\n",
        "* Print out _every other_ two-digit number in the given sequence in _reverse order_ starting with 89.\n"
      ]
    },
    {
      "cell_type": "code",
      "execution_count": 1,
      "id": "29e369f3",
      "metadata": {
        "colab": {
          "base_uri": "https://localhost:8080/"
        },
        "id": "29e369f3",
        "outputId": "1fd90083-4621-40ca-fab0-c24460780517"
      },
      "outputs": [
        {
          "output_type": "stream",
          "name": "stdout",
          "text": [
            "[0, 3, 21, 144, 987]\n",
            "[3, 21, 144, 987]\n",
            "[1, 3, 8, 21, 55, 144, 377, 987, 2584]\n",
            "[4181, 2584, 1597, 987, 610, 377, 233, 144, 89, 55, 34, 21, 13, 8, 5, 3, 2, 1, 1, 0]\n",
            "[89, 34, 13]\n"
          ]
        }
      ],
      "source": [
        "fibonacci_sequence = [0, 1, 1, 2, 3, 5, 8, 13, 21, 34, 55, 89, 144, 233, 377, 610, 987, 1597, 2584, 4181]\n",
        "\n",
        "# Print out every fourth number in the sequence, beginning with 0\n",
        "print(fibonacci_sequence[::4])\n",
        "\n",
        "# Print out every fourth number in the sequence, beginning with 3 and ending with 987\n",
        "print(fibonacci_sequence[4:17:4])\n",
        "\n",
        "\n",
        "# Print out every other number larger than one within the sequence\n",
        "print(fibonacci_sequence[2::2])\n",
        "\n",
        "\n",
        "# Print out the numbers in the given sequence in reverse order, starting with 4181 and ending with 144\n",
        "print(fibonacci_sequence[::-1])\n",
        "\n",
        "\n",
        "# Print out every other two-digit number in the given sequence in reverse order starting with 89.\n",
        "two_digit_numbers = [num for num in fibonacci_sequence if 10 <= num <= 99]\n",
        "print(two_digit_numbers[::-2])\n"
      ]
    },
    {
      "cell_type": "markdown",
      "id": "822e2b75",
      "metadata": {
        "id": "822e2b75"
      },
      "source": [
        "### Modifying Lists Via Slices\n",
        "* Can modify a list by assigning to a slice.\n",
        "* The dimensions don't have to match (we can replace smaller sub-lists with larger or vice-versa.)\n",
        "* Since this approach can modify existing lists, and can be tricky, it should be used **carefully**."
      ]
    },
    {
      "cell_type": "code",
      "execution_count": null,
      "id": "22545ee1",
      "metadata": {
        "id": "22545ee1"
      },
      "outputs": [],
      "source": [
        "numbers = [1, 3, 5, 7, 9, 11, 13, 15]\n",
        "numbers[0:3] = ['one', 'three', 'five']\n",
        "print(numbers)"
      ]
    },
    {
      "cell_type": "code",
      "execution_count": null,
      "id": "886fdfce",
      "metadata": {
        "id": "886fdfce"
      },
      "outputs": [],
      "source": [
        "numbers[3:8]=['hi','there']\n",
        "print(numbers)"
      ]
    },
    {
      "cell_type": "code",
      "execution_count": null,
      "id": "dc06c5b3",
      "metadata": {
        "id": "dc06c5b3"
      },
      "outputs": [],
      "source": [
        "numbers[0:1]=['a','b','c']\n",
        "print(numbers)"
      ]
    },
    {
      "cell_type": "code",
      "execution_count": null,
      "id": "698a3042",
      "metadata": {
        "id": "698a3042"
      },
      "outputs": [],
      "source": [
        "numbers[:] = []\n",
        "print(numbers)"
      ]
    },
    {
      "cell_type": "markdown",
      "id": "4e4d3982",
      "metadata": {
        "id": "4e4d3982"
      },
      "source": [
        "### The range function\n",
        " Recall that the range function returns a sequence of numbers, which can be helpful in constructing lists or performing actions related to sequential elements.  and increments by 1 (by default), and stops before a specified number.  **Reminder: It may take up to three arguments!**\n",
        "- range (stop) takes one argument, and will generate all numbers from 0 up to **stop**, incrementing by 1.\n",
        "- range (start, stop) takes two arguments, and will generate all numbers from **start** up to **stop**, incrementing by 1.\n",
        "- range (start, stop, step) takes three arguments and will generate all numbers from **start** up to **stop**, incrementing by **step**.\n"
      ]
    },
    {
      "cell_type": "code",
      "execution_count": null,
      "id": "adbb7b4c",
      "metadata": {
        "id": "adbb7b4c"
      },
      "outputs": [],
      "source": [
        "#range is often used in making lists.\n",
        "countto10 = list(range(11))\n",
        "print(countto10) #note where the list starts and stops!"
      ]
    },
    {
      "cell_type": "code",
      "execution_count": null,
      "id": "59aeeb52",
      "metadata": {
        "id": "59aeeb52"
      },
      "outputs": [],
      "source": [
        "count_1sthalf = countto10[:5]\n",
        "print(count_1sthalf)"
      ]
    },
    {
      "cell_type": "code",
      "execution_count": null,
      "id": "5ace7b7d",
      "metadata": {
        "id": "5ace7b7d"
      },
      "outputs": [],
      "source": [
        "count_2ndhalf = countto10[5:]\n",
        "print(count_2ndhalf)"
      ]
    },
    {
      "cell_type": "markdown",
      "id": "e8b3a645",
      "metadata": {
        "id": "e8b3a645"
      },
      "source": [
        "## Practice 2: Manipulating A List of Numbers\n",
        "* Generate a list of **all positive, three-digit odd numbers.**\n",
        "* **Without creating a new list**, use slicing and the `index` method to remove all numbers from your initial list that begin with an even number (ex: 201, 203, etc. should all be removed).\n",
        "\n",
        "### Note that this may require a little bit of thought/planning!"
      ]
    },
    {
      "cell_type": "code",
      "execution_count": 2,
      "id": "4f79e07c",
      "metadata": {
        "colab": {
          "base_uri": "https://localhost:8080/"
        },
        "id": "4f79e07c",
        "outputId": "ebdb0c24-b3b0-4519-e783-dde213327153"
      },
      "outputs": [
        {
          "output_type": "execute_result",
          "data": {
            "text/plain": [
              "[101,\n",
              " 103,\n",
              " 105,\n",
              " 107,\n",
              " 109,\n",
              " 111,\n",
              " 113,\n",
              " 115,\n",
              " 117,\n",
              " 119,\n",
              " 121,\n",
              " 123,\n",
              " 125,\n",
              " 127,\n",
              " 129,\n",
              " 131,\n",
              " 133,\n",
              " 135,\n",
              " 137,\n",
              " 139,\n",
              " 141,\n",
              " 143,\n",
              " 145,\n",
              " 147,\n",
              " 149,\n",
              " 151,\n",
              " 153,\n",
              " 155,\n",
              " 157,\n",
              " 159,\n",
              " 161,\n",
              " 163,\n",
              " 165,\n",
              " 167,\n",
              " 169,\n",
              " 171,\n",
              " 173,\n",
              " 175,\n",
              " 177,\n",
              " 179,\n",
              " 181,\n",
              " 183,\n",
              " 185,\n",
              " 187,\n",
              " 189,\n",
              " 191,\n",
              " 193,\n",
              " 195,\n",
              " 197,\n",
              " 199,\n",
              " 301,\n",
              " 303,\n",
              " 305,\n",
              " 307,\n",
              " 309,\n",
              " 311,\n",
              " 313,\n",
              " 315,\n",
              " 317,\n",
              " 319,\n",
              " 321,\n",
              " 323,\n",
              " 325,\n",
              " 327,\n",
              " 329,\n",
              " 331,\n",
              " 333,\n",
              " 335,\n",
              " 337,\n",
              " 339,\n",
              " 341,\n",
              " 343,\n",
              " 345,\n",
              " 347,\n",
              " 349,\n",
              " 351,\n",
              " 353,\n",
              " 355,\n",
              " 357,\n",
              " 359,\n",
              " 361,\n",
              " 363,\n",
              " 365,\n",
              " 367,\n",
              " 369,\n",
              " 371,\n",
              " 373,\n",
              " 375,\n",
              " 377,\n",
              " 379,\n",
              " 381,\n",
              " 383,\n",
              " 385,\n",
              " 387,\n",
              " 389,\n",
              " 391,\n",
              " 393,\n",
              " 395,\n",
              " 397,\n",
              " 399,\n",
              " 501,\n",
              " 503,\n",
              " 505,\n",
              " 507,\n",
              " 509,\n",
              " 511,\n",
              " 513,\n",
              " 515,\n",
              " 517,\n",
              " 519,\n",
              " 521,\n",
              " 523,\n",
              " 525,\n",
              " 527,\n",
              " 529,\n",
              " 531,\n",
              " 533,\n",
              " 535,\n",
              " 537,\n",
              " 539,\n",
              " 541,\n",
              " 543,\n",
              " 545,\n",
              " 547,\n",
              " 549,\n",
              " 551,\n",
              " 553,\n",
              " 555,\n",
              " 557,\n",
              " 559,\n",
              " 561,\n",
              " 563,\n",
              " 565,\n",
              " 567,\n",
              " 569,\n",
              " 571,\n",
              " 573,\n",
              " 575,\n",
              " 577,\n",
              " 579,\n",
              " 581,\n",
              " 583,\n",
              " 585,\n",
              " 587,\n",
              " 589,\n",
              " 591,\n",
              " 593,\n",
              " 595,\n",
              " 597,\n",
              " 599,\n",
              " 701,\n",
              " 703,\n",
              " 705,\n",
              " 707,\n",
              " 709,\n",
              " 711,\n",
              " 713,\n",
              " 715,\n",
              " 717,\n",
              " 719,\n",
              " 721,\n",
              " 723,\n",
              " 725,\n",
              " 727,\n",
              " 729,\n",
              " 731,\n",
              " 733,\n",
              " 735,\n",
              " 737,\n",
              " 739,\n",
              " 741,\n",
              " 743,\n",
              " 745,\n",
              " 747,\n",
              " 749,\n",
              " 751,\n",
              " 753,\n",
              " 755,\n",
              " 757,\n",
              " 759,\n",
              " 761,\n",
              " 763,\n",
              " 765,\n",
              " 767,\n",
              " 769,\n",
              " 771,\n",
              " 773,\n",
              " 775,\n",
              " 777,\n",
              " 779,\n",
              " 781,\n",
              " 783,\n",
              " 785,\n",
              " 787,\n",
              " 789,\n",
              " 791,\n",
              " 793,\n",
              " 795,\n",
              " 797,\n",
              " 799,\n",
              " 901,\n",
              " 903,\n",
              " 905,\n",
              " 907,\n",
              " 909,\n",
              " 911,\n",
              " 913,\n",
              " 915,\n",
              " 917,\n",
              " 919,\n",
              " 921,\n",
              " 923,\n",
              " 925,\n",
              " 927,\n",
              " 929,\n",
              " 931,\n",
              " 933,\n",
              " 935,\n",
              " 937,\n",
              " 939,\n",
              " 941,\n",
              " 943,\n",
              " 945,\n",
              " 947,\n",
              " 949,\n",
              " 951,\n",
              " 953,\n",
              " 955,\n",
              " 957,\n",
              " 959,\n",
              " 961,\n",
              " 963,\n",
              " 965,\n",
              " 967,\n",
              " 969,\n",
              " 971,\n",
              " 973,\n",
              " 975,\n",
              " 977,\n",
              " 979,\n",
              " 981,\n",
              " 983,\n",
              " 985,\n",
              " 987,\n",
              " 989,\n",
              " 991,\n",
              " 993,\n",
              " 995,\n",
              " 997,\n",
              " 999]"
            ]
          },
          "metadata": {},
          "execution_count": 2
        }
      ],
      "source": [
        "\n",
        "# Generate a list of all positive, three-digit odd numbers.\n",
        "three_digit_odd_numbers = [num for num in range(101, 1000, 2)]\n",
        "\n",
        "\n",
        "numbers_to_remove = []\n",
        "for num in three_digit_odd_numbers:\n",
        "  if int(str(num)[0]) % 2 == 0:\n",
        "    numbers_to_remove.append(num)\n",
        "\n",
        "for num in numbers_to_remove:\n",
        "  if num in three_digit_odd_numbers:\n",
        "    three_digit_odd_numbers.remove(num)\n",
        "\n",
        "\n",
        "three_digit_odd_numbers\n"
      ]
    },
    {
      "cell_type": "markdown",
      "id": "2739a2d3",
      "metadata": {
        "id": "2739a2d3"
      },
      "source": [
        "### Enhancing List Utility Using `for` Loops\n",
        "* `for` loops, which are _required_ in order to fully explore what lists can do.\n",
        "* We first provide a brief reminder of how the for loop operates in general.\n",
        "* We then examine the tricky but useful concept of **list comprehensions**."
      ]
    },
    {
      "cell_type": "code",
      "execution_count": null,
      "id": "e5874c35",
      "metadata": {
        "id": "e5874c35"
      },
      "outputs": [],
      "source": [
        "daysoftheweek = ['Sunday', 'Monday', 'Tuesday', 'Wednesday', 'Thursday', 'Friday', 'Saturday']"
      ]
    },
    {
      "cell_type": "code",
      "execution_count": null,
      "id": "95baa1a7",
      "metadata": {
        "id": "95baa1a7"
      },
      "outputs": [],
      "source": [
        "for day in daysoftheweek: #print each day one-by-one\n",
        "    print(day)"
      ]
    },
    {
      "cell_type": "code",
      "execution_count": null,
      "id": "5117e337",
      "metadata": {
        "id": "5117e337"
      },
      "outputs": [],
      "source": [
        "for day in daysoftheweek: #print an abbreviated form of each day\n",
        "    print(day[:2])"
      ]
    },
    {
      "cell_type": "markdown",
      "id": "1e96871e",
      "metadata": {
        "id": "1e96871e"
      },
      "source": [
        "## Practice 3: Connecting Days of the Week and their Numeric Order\n",
        "Using a single for loop and the list containing days of the week (daysoftheweek), display a sequence of messages that state \"Day \\<num\\> of the week is \\<day\\>.\"  For example, the first output should be \"Day 1 of the week is Sunday\" and the last output should be \"Day 7 of the week of Saturday.\""
      ]
    },
    {
      "cell_type": "code",
      "execution_count": 3,
      "id": "2d9a6ff6",
      "metadata": {
        "colab": {
          "base_uri": "https://localhost:8080/"
        },
        "id": "2d9a6ff6",
        "outputId": "b5063a03-c10c-4ccd-af44-6058965280ea"
      },
      "outputs": [
        {
          "output_type": "stream",
          "name": "stdout",
          "text": [
            "Day 1 of the week is Sunday.\n",
            "Day 2 of the week is Monday.\n",
            "Day 3 of the week is Tuesday.\n",
            "Day 4 of the week is Wednesday.\n",
            "Day 5 of the week is Thursday.\n",
            "Day 6 of the week is Friday.\n",
            "Day 7 of the week is Saturday.\n"
          ]
        }
      ],
      "source": [
        "\n",
        "daysoftheweek = ['Sunday', 'Monday', 'Tuesday', 'Wednesday', 'Thursday', 'Friday', 'Saturday']\n",
        "for i in range(len(daysoftheweek)):\n",
        "  print(f\"Day {i+1} of the week is {daysoftheweek[i]}.\")\n"
      ]
    },
    {
      "cell_type": "markdown",
      "id": "6b1823b3",
      "metadata": {
        "id": "6b1823b3"
      },
      "source": [
        "# Creating a List Using List Comprehensions\n",
        "* We previously saw the use of a `for` loop and use of iteration over a sequence of numbers, etc. to create a list from scratch\n",
        "* In general, this is not considered the most _Pythonic_ way of doing things, because it's not concise (3+ statements to accomplish one task) and there is a preferred alternative.\n",
        "* A **List Comprehension** is a concise means of applying a function or operation(s) to a list (or creating one from scratch).\n",
        "* In constructing a new list, the simplest list comprehension format we can use is \\<list_name\\>=\\[item `for` item in \\<iterable expression\\>\\]"
      ]
    },
    {
      "cell_type": "code",
      "execution_count": null,
      "id": "2bbb2962",
      "metadata": {
        "id": "2bbb2962"
      },
      "outputs": [],
      "source": [
        "list1 = [] #3 Standard loop requires 3 lines to put every number from 1 to 10 in a list.\n",
        "for item in range(1, 11):\n",
        "    list1.append(item)\n",
        "print(list1)"
      ]
    },
    {
      "cell_type": "code",
      "execution_count": null,
      "id": "0ba2ec0a",
      "metadata": {
        "id": "0ba2ec0a"
      },
      "outputs": [],
      "source": [
        "list2 = [item for item in range(1,11)] #1 line to perform the same task using comprehension\n",
        "print(list2)"
      ]
    },
    {
      "cell_type": "markdown",
      "id": "710954de",
      "metadata": {
        "id": "710954de"
      },
      "source": [
        "### More Details on List Comprehension\n",
        "* In the above, the `for` clause iterates over the sequence of numbers produced by `range(1, 11)`.\n",
        "* For each `item`, the list comprehension evaluates the expression to the left of the `for` clause and places the expression’s value in the new list.\n",
        "* Note that any iterable expression can be used (e.g. lists, strings, etc.)\n",
        "* In addition, we can use _mapping_ with list comprehension to produce a list with the same number elements in the original data but with modified values.\n"
      ]
    },
    {
      "cell_type": "code",
      "execution_count": null,
      "id": "0e46db12",
      "metadata": {
        "id": "0e46db12"
      },
      "outputs": [],
      "source": [
        "#mapping elements of original range using a simple linear equation (3x-1)\n",
        "list3 = [3 * item -1 for item in range(0, 10)]\n",
        "print(list3)"
      ]
    },
    {
      "cell_type": "code",
      "execution_count": null,
      "id": "2319b3fa",
      "metadata": {
        "id": "2319b3fa"
      },
      "outputs": [],
      "source": [
        "print(list1)\n",
        "list4 =[item**2 for item in list1] #Using an existing list with comprehension instead of range\n",
        "print(list4)"
      ]
    },
    {
      "cell_type": "code",
      "execution_count": null,
      "id": "448d3ebb",
      "metadata": {
        "id": "448d3ebb"
      },
      "outputs": [],
      "source": [
        "list5 = [item.upper() for item in 'of mice and men'] #Using a string with comprehension\n",
        "print(list5)"
      ]
    },
    {
      "cell_type": "markdown",
      "id": "27149d91",
      "metadata": {
        "id": "27149d91"
      },
      "source": [
        "### Practice 4: Use list comprehensions to produce all of the following lists, and use print statements to verify they are functioning correctly.\n",
        "* A list of all powers of 2 (1, 2, 4, etc.) starting at 1 and ending at 2^20\n",
        "* Title-case variations (only the first character capitalized) of all strings in the following ['apple', 'orange', 'banana', kiwi']\n",
        "* The first ten entries in Zeno's infinite sum sequence $\\frac{1}{2}, \\frac{3}{4}, \\frac{7}{8}, \\frac{15}{16}, etc.$"
      ]
    },
    {
      "cell_type": "code",
      "execution_count": 4,
      "id": "65390f7f",
      "metadata": {
        "colab": {
          "base_uri": "https://localhost:8080/"
        },
        "id": "65390f7f",
        "outputId": "153c1cc4-4a66-47ae-8af8-3ff3a0d8e412"
      },
      "outputs": [
        {
          "output_type": "stream",
          "name": "stdout",
          "text": [
            "[1, 2, 4, 8, 16, 32, 64, 128, 256, 512, 1024, 2048, 4096, 8192, 16384, 32768, 65536, 131072, 262144, 524288, 1048576]\n",
            "['Apple', 'Orange', 'Banana', 'Kiwi']\n"
          ]
        },
        {
          "output_type": "execute_result",
          "data": {
            "text/plain": [
              "[0.5,\n",
              " 0.75,\n",
              " 0.875,\n",
              " 0.9375,\n",
              " 0.96875,\n",
              " 0.984375,\n",
              " 0.9921875,\n",
              " 0.99609375,\n",
              " 0.998046875,\n",
              " 0.9990234375]"
            ]
          },
          "metadata": {},
          "execution_count": 4
        }
      ],
      "source": [
        "\n",
        "powers_of_2 = [2**i for i in range(21)]\n",
        "print(powers_of_2)\n",
        "\n",
        "\n",
        "fruits = ['apple', 'orange', 'banana', 'kiwi']\n",
        "title_case_fruits = [fruit.title() for fruit in fruits]\n",
        "print(title_case_fruits)\n",
        "\n",
        "\n",
        "zenos_sequence = [(2**i - 1) / (2**i) for i in range(1, 11)]\n",
        "zenos_sequence\n"
      ]
    },
    {
      "cell_type": "markdown",
      "id": "efb59920",
      "metadata": {
        "id": "efb59920"
      },
      "source": [
        "## Tuples\n",
        "* Tuples are, in effect **immutable** equivalents to lists.\n",
        "* The standard syntax for constructing tuples is to use `(` and `)` in lieu of `[` and `]`\n",
        "* To create an empty tuple, use empty parentheses.\n",
        "* A single-element tuple requires a comma after the element (this syntax can take some getting used to in practice)"
      ]
    },
    {
      "cell_type": "code",
      "execution_count": null,
      "id": "f337b8c1",
      "metadata": {
        "id": "f337b8c1"
      },
      "outputs": [],
      "source": [
        "mytuple = (1, 'a', 'platypus')\n",
        "yourtuple = 1, 'a', 'platypus' #Note that tuples technically DO NOT require parentheses!\n",
        "print(len(mytuple))\n",
        "print(mytuple == yourtuple)"
      ]
    },
    {
      "cell_type": "code",
      "execution_count": null,
      "id": "54c5e0da",
      "metadata": {
        "id": "54c5e0da"
      },
      "outputs": [],
      "source": [
        "anothertuple = ('red',5,'yellow')\n",
        "print(anothertuple)"
      ]
    },
    {
      "cell_type": "code",
      "execution_count": null,
      "id": "d0ce6fc9",
      "metadata": {
        "id": "d0ce6fc9"
      },
      "outputs": [],
      "source": [
        "empty_tuple = ()\n",
        "print(type(empty_tuple)) #We can confirm that what we have is, in fact, a tuple"
      ]
    },
    {
      "cell_type": "code",
      "execution_count": null,
      "id": "95b85049",
      "metadata": {
        "id": "95b85049"
      },
      "outputs": [],
      "source": [
        "not_a_tuple = ('red')\n",
        "print(not_a_tuple)"
      ]
    },
    {
      "cell_type": "code",
      "execution_count": null,
      "id": "c1a8910f",
      "metadata": {
        "id": "c1a8910f"
      },
      "outputs": [],
      "source": [
        "tuple_1value = ('red',)  # note the comma\n",
        "print(tuple_1value)"
      ]
    },
    {
      "cell_type": "markdown",
      "id": "e91789e4",
      "metadata": {
        "id": "e91789e4"
      },
      "source": [
        "### Accessing Tuple Elements\n",
        "* It is common to access tuple elements directly rather than iterating over them.\n",
        "* However, there is nothing preventing us from treating tuples as iterable collections (i.e. letting us walk through their elements one-by-one) when accessing elements if required."
      ]
    },
    {
      "cell_type": "code",
      "execution_count": null,
      "id": "bf962672",
      "metadata": {
        "id": "bf962672"
      },
      "outputs": [],
      "source": [
        "time_tuple = (9, 16, 1)\n",
        "print(time_tuple[0] * 3600 + time_tuple[1] * 60 + time_tuple[2]) #convert hours, minutes, and seconds to pure seconds"
      ]
    },
    {
      "cell_type": "code",
      "execution_count": null,
      "id": "30e26efd",
      "metadata": {
        "id": "30e26efd"
      },
      "outputs": [],
      "source": [
        "#But remember, tuples are immutable -- they cannot be changed!\n",
        "for pos in range(0,3):\n",
        "    time_tuple[pos] = time_tuple[pos]*2"
      ]
    },
    {
      "cell_type": "markdown",
      "id": "dcecb342",
      "metadata": {
        "id": "dcecb342"
      },
      "source": [
        "### Tuples And Mutable Objects\n",
        "* Just because a tuple itself is immutable, does not mean it cannot _contain_ mutable objects.\n",
        "* It's easiest to think of the objects in a tuple as immutable _references_ -- while these references cannot be added or removed, any data they reference _can_ be changed."
      ]
    },
    {
      "cell_type": "code",
      "execution_count": null,
      "id": "c21a6b62",
      "metadata": {
        "id": "c21a6b62"
      },
      "outputs": [],
      "source": [
        "student_tuple = ('Allison', 'Bryll', [98, 75, 87])\n",
        "student_tuple[2][1] = 85\n",
        "print(student_tuple)"
      ]
    },
    {
      "cell_type": "code",
      "execution_count": null,
      "id": "eebec749",
      "metadata": {
        "id": "eebec749"
      },
      "outputs": [],
      "source": [
        "#Neither of the below are valid -- make sure you understand why!\n",
        "student_tuple[0]='Amanda'\n",
        "student_tuple[1][3]='i'\n"
      ]
    },
    {
      "cell_type": "markdown",
      "id": "03f32cb4",
      "metadata": {
        "id": "03f32cb4"
      },
      "source": [
        "## Unpacking Sequences\n",
        "* Tuples are considered to be **packed** collections of data.\n",
        "* We can **unpack** any sequence’s elements by assigning the sequence to a comma-separated list of variables of the same length.\n",
        "* The Underscore character (\\_) is commonly used in place of tuple elements ignored in unpacking (indicating we don't need those elements)."
      ]
    },
    {
      "cell_type": "code",
      "execution_count": null,
      "id": "d37ca47d",
      "metadata": {
        "id": "d37ca47d"
      },
      "outputs": [],
      "source": [
        "student_tuple = ('Allison','Bryll',[98, 85, 87])\n",
        "first_name, lastname, test_grades = student_tuple\n",
        "print('The student\\'s last name is ' + lastname + ', and their first test grade is ' + str(test_grades[0]) + '.')"
      ]
    },
    {
      "cell_type": "code",
      "execution_count": null,
      "id": "bbca2405",
      "metadata": {
        "id": "bbca2405"
      },
      "outputs": [],
      "source": [
        "_, _, test_grades = student_tuple #if we only want the student's test scores\n",
        "print(sum(test_grades)/len(test_grades))"
      ]
    },
    {
      "cell_type": "code",
      "execution_count": null,
      "id": "44b2f468",
      "metadata": {
        "id": "44b2f468"
      },
      "outputs": [],
      "source": [
        "c1, c2, c3, c4, c5  = 'Hello' #Technically, we can unpack any standard collection\n",
        "print(c2)"
      ]
    },
    {
      "cell_type": "markdown",
      "id": "d578958a",
      "metadata": {
        "id": "d578958a"
      },
      "source": [
        "### Using the enumerate function\n",
        "* The preferred way to access an element’s index _and_ value is the built-in function **`enumerate`**.\n",
        "* Receives an iterable and creates an iterator that, for each element, returns a tuple containing the element’s index and value.\n",
        "* `for` loops can then iterate over index and value simultaneously using unpack notation.\n",
        "* Note: Built-in function **`list`** creates a list from any compatible sequence, while **`tuple`** creates a tuple from any compatible sequence."
      ]
    },
    {
      "cell_type": "code",
      "execution_count": null,
      "id": "b00ef0a1",
      "metadata": {
        "id": "b00ef0a1"
      },
      "outputs": [],
      "source": [
        "colors = ['red', 'orange', 'yellow', 'blue']\n",
        "print(list(enumerate(colors)))\n",
        "print(tuple(enumerate(colors)))"
      ]
    },
    {
      "cell_type": "code",
      "execution_count": null,
      "id": "04e516fc",
      "metadata": {
        "id": "04e516fc"
      },
      "outputs": [],
      "source": [
        "for index, value in enumerate(colors):\n",
        "    print('Color ' + str(index) + ' in the list is ' + value + '.')"
      ]
    },
    {
      "cell_type": "markdown",
      "id": "5b67bffe",
      "metadata": {
        "id": "5b67bffe"
      },
      "source": [
        "### Formatted Strings\n",
        "* Thus far, we have relied on the use of standard strings for output and stitching together literals and variables.\n",
        "* Python offers the use of **formatted strings** to simplify and/or improve our capabilities in constructing strings.\n",
        "* Formatting strings are of the form `f'<string_expression>'` where <string_expression> is a string that can contain variables enclosed in `{` and `}`, which will _automatically_ be replaced with suitable values."
      ]
    },
    {
      "cell_type": "code",
      "execution_count": null,
      "id": "c4e1446a",
      "metadata": {
        "id": "c4e1446a"
      },
      "outputs": [],
      "source": [
        "fave = 'dog'\n",
        "print(f'My favorite animal is a {fave}.')"
      ]
    },
    {
      "cell_type": "code",
      "execution_count": null,
      "id": "5da264e1",
      "metadata": {
        "id": "5da264e1"
      },
      "outputs": [],
      "source": [
        "import math\n",
        "pi_a = round(math.pi,3)\n",
        "print(f'The value of pi is approximately {pi_a}.')"
      ]
    },
    {
      "cell_type": "code",
      "execution_count": null,
      "id": "ad5a0f7f",
      "metadata": {
        "id": "ad5a0f7f"
      },
      "outputs": [],
      "source": [
        "#Formatted strings really shine when multiple variables are in the mix.\n",
        "fname = 'Andrew'; lname = 'Karem'; birthyear = 1979; teachyears = 5"
      ]
    },
    {
      "cell_type": "code",
      "execution_count": null,
      "id": "1ac1a73e",
      "metadata": {
        "id": "1ac1a73e"
      },
      "outputs": [],
      "source": [
        "#Without formatted strings, stitching together the information above is quite messy!\n",
        "print('My name is ' + fname + ' ' + lname + '.  I was born in ' + str(birthyear) + ' and I have been teaching for ' + str(teachyears) + ' years.')"
      ]
    },
    {
      "cell_type": "code",
      "execution_count": null,
      "id": "f907bc13",
      "metadata": {
        "id": "f907bc13"
      },
      "outputs": [],
      "source": [
        "#Formatted strings make this MUCH cleaner\n",
        "print(f'My name is {fname} {lname}.  I was born in {birthyear} and I have been teaching for {teachyears} years.')"
      ]
    },
    {
      "cell_type": "markdown",
      "id": "03598bed",
      "metadata": {
        "id": "03598bed"
      },
      "source": [
        "## Practice 5: For loops, Enumerate, and Formatted Strings\n",
        "The following is a list of the five major schools/divisions within Bellarmine University, in the order in which they were founded.\n",
        "1. College of Arts and Sciences\n",
        "2. College of Health Professions\n",
        "3. W. Fielding Rubel School of Business\n",
        "4. Annsley Frazier Thornton School of Education\n",
        "5. Center for Community & Professional Education\n",
        "\n",
        "You are to use this list ['College of Arts and Sciences', 'College of Health Professions', 'W. Fielding Rubel School of Business', 'Annsley Frazier Thornton School of Education', 'Center for Community & Professional Education'], enumeration, a for loop, and formatted strings to produce the numbered list about using Python."
      ]
    },
    {
      "cell_type": "code",
      "execution_count": 5,
      "id": "7431f232",
      "metadata": {
        "colab": {
          "base_uri": "https://localhost:8080/"
        },
        "id": "7431f232",
        "outputId": "8ddd4790-dbfb-47cd-dba0-60a6c7f84e64"
      },
      "outputs": [
        {
          "output_type": "stream",
          "name": "stdout",
          "text": [
            "1. College of Arts and Sciences\n",
            "2. College of Health Professions\n",
            "3. W. Fielding Rubel School of Business\n",
            "4. Annsley Frazier Thornton School of Education\n",
            "5. Center for Community & Professional Education\n"
          ]
        }
      ],
      "source": [
        "bellarmine_schools = ['College of Arts and Sciences', 'College of Health Professions', 'W. Fielding Rubel School of Business', 'Annsley Frazier Thornton School of Education', 'Center for Community & Professional Education']\n",
        "\n",
        "for index, school in enumerate(bellarmine_schools):\n",
        "  print(f\"{index + 1}. {school}\")\n"
      ]
    }
  ],
  "metadata": {
    "kernelspec": {
      "display_name": "Python 3 (ipykernel)",
      "language": "python",
      "name": "python3"
    },
    "language_info": {
      "codemirror_mode": {
        "name": "ipython",
        "version": 3
      },
      "file_extension": ".py",
      "mimetype": "text/x-python",
      "name": "python",
      "nbconvert_exporter": "python",
      "pygments_lexer": "ipython3",
      "version": "3.9.16"
    },
    "colab": {
      "provenance": [],
      "include_colab_link": true
    }
  },
  "nbformat": 4,
  "nbformat_minor": 5
}