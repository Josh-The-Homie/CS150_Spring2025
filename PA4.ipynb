{
  "nbformat": 4,
  "nbformat_minor": 0,
  "metadata": {
    "colab": {
      "provenance": [],
      "authorship_tag": "ABX9TyNP8ZNj0iUnmhQhN7WWp7PF",
      "include_colab_link": true
    },
    "kernelspec": {
      "name": "python3",
      "display_name": "Python 3"
    },
    "language_info": {
      "name": "python"
    }
  },
  "cells": [
    {
      "cell_type": "markdown",
      "metadata": {
        "id": "view-in-github",
        "colab_type": "text"
      },
      "source": [
        "<a href=\"https://colab.research.google.com/github/Josh-The-Homie/CS150_Spring2025/blob/main/PA4.ipynb\" target=\"_parent\"><img src=\"https://colab.research.google.com/assets/colab-badge.svg\" alt=\"Open In Colab\"/></a>"
      ]
    },
    {
      "cell_type": "markdown",
      "source": [
        "# Programming Assignment 4\n",
        "## Author: Joshua Henderson\n",
        "### Spring 2025"
      ],
      "metadata": {
        "id": "2dE1MOQFs6i0"
      }
    },
    {
      "cell_type": "code",
      "source": [
        "def find_factors():\n",
        "  \"\"\"Gets a positive integer from the user and prints all its factors.\"\"\"\n",
        "\n",
        "  while True:\n",
        "    try:\n",
        "      num = int(input(\"Please input a positive integer: \"))\n",
        "      if num > 0:\n",
        "        break\n",
        "      else:\n",
        "        print(\"Please enter a positive integer.\")\n",
        "    except ValueError:\n",
        "      print(\"Invalid input. Please enter a positive integer.\")\n",
        "\n",
        "  for i in range(1, num + 1):\n",
        "    if num % i == 0:\n",
        "      print(f\"{i} is a factor of {num}\")\n",
        "\n",
        "\n",
        "if __name__ == \"__main__\":\n",
        "  find_factors()\n"
      ],
      "metadata": {
        "colab": {
          "base_uri": "https://localhost:8080/"
        },
        "id": "Eb15HgNts8PY",
        "outputId": "bad09650-e180-40c9-c72f-9b238a6ab568"
      },
      "execution_count": 1,
      "outputs": [
        {
          "output_type": "stream",
          "name": "stdout",
          "text": [
            "Please input a positive integer: 92\n",
            "1 is a factor of 92\n",
            "2 is a factor of 92\n",
            "4 is a factor of 92\n",
            "23 is a factor of 92\n",
            "46 is a factor of 92\n",
            "92 is a factor of 92\n"
          ]
        }
      ]
    },
    {
      "cell_type": "code",
      "source": [
        "def find_factors():\n",
        "  \"\"\"Gets a positive integer from the user and prints all its factors.\"\"\"\n",
        "\n",
        "  while True:\n",
        "    try:\n",
        "      num = int(input(\"Please input a positive integer: \"))\n",
        "      if num > 0:\n",
        "        break\n",
        "      else:\n",
        "        print(\"Please enter a positive integer.\")\n",
        "    except ValueError:\n",
        "      print(\"Invalid input. Please enter a positive integer.\")\n",
        "\n",
        "  for i in range(1, num + 1):\n",
        "    if num % i == 0:\n",
        "      print(f\"{i} is a factor of {num}\")\n",
        "\n",
        "\n",
        "def is_prime():\n",
        "  \"\"\"Gets a positive integer from the user and determines if it's prime.\"\"\"\n",
        "\n",
        "  while True:\n",
        "    try:\n",
        "      num = int(input(\"Please input a positive integer: \"))\n",
        "      if num > 0:\n",
        "        break\n",
        "      else:\n",
        "        print(\"Please enter a positive integer.\")\n",
        "    except ValueError:\n",
        "      print(\"Invalid input. Please enter a positive integer.\")\n",
        "\n",
        "  if num == 1:\n",
        "    print(\"Your number is not prime.\")\n",
        "    return\n",
        "\n",
        "  for i in range(2, int(num**0.5) + 1):\n",
        "    if num % i == 0:\n",
        "      print(\"Your number is not prime.\")\n",
        "      return\n",
        "\n",
        "  print(\"Your number is prime.\")\n",
        "\n",
        "\n",
        "if __name__ == \"__main__\":\n",
        "  is_prime()\n"
      ],
      "metadata": {
        "colab": {
          "base_uri": "https://localhost:8080/"
        },
        "id": "nSlylOsBtFwQ",
        "outputId": "2532de3f-f1a0-40f8-f313-3ba0d46bc0dc"
      },
      "execution_count": 3,
      "outputs": [
        {
          "output_type": "stream",
          "name": "stdout",
          "text": [
            "Please input a positive integer: 17\n",
            "Your number is prime.\n"
          ]
        }
      ]
    },
    {
      "cell_type": "code",
      "source": [
        "def main():\n",
        "  \"\"\"\n",
        "  Implements a translation dictionary for English to Spanish.\n",
        "  \"\"\"\n",
        "\n",
        "  eng_to_spanish = {\n",
        "      \"hello\": \"hola\",\n",
        "      \"goodbye\": \"adiós\",\n",
        "      \"cat\": \"gato\",\n",
        "      \"dog\": \"perro\",\n",
        "      \"book\": \"libro\",\n",
        "      \"table\": \"mesa\",\n",
        "      \"chair\": \"silla\",\n",
        "      \"computer\": \"computadora\",\n",
        "      \"house\": \"casa\",\n",
        "      \"water\": \"agua\"\n",
        "  }\n",
        "\n",
        "  print(\"Enter a word to translate from English to Spanish (hit enter to stop)\")\n",
        "\n",
        "  while True:\n",
        "    word = input(\": \")\n",
        "\n",
        "    if not word:\n",
        "      break\n",
        "\n",
        "    if word.lower() in eng_to_spanish:\n",
        "      print(f\"The Spanish word for {word} is {eng_to_spanish[word.lower()].upper()}.\")\n",
        "    else:\n",
        "      print(f\"The Spanish word for {word} is not in this dictionary.\")\n",
        "\n",
        "if __name__ == \"__main__\":\n",
        "  main()\n"
      ],
      "metadata": {
        "colab": {
          "base_uri": "https://localhost:8080/",
          "height": 408
        },
        "id": "xeMNrkwMtQVW",
        "outputId": "a1d84fef-eaae-4f19-b2b3-48f2e51b61bf"
      },
      "execution_count": 4,
      "outputs": [
        {
          "output_type": "stream",
          "name": "stdout",
          "text": [
            "Enter a word to translate from English to Spanish (hit enter to stop)\n",
            ": cat\n",
            "The Spanish word for cat is GATO.\n"
          ]
        },
        {
          "output_type": "error",
          "ename": "KeyboardInterrupt",
          "evalue": "Interrupted by user",
          "traceback": [
            "\u001b[0;31m---------------------------------------------------------------------------\u001b[0m",
            "\u001b[0;31mKeyboardInterrupt\u001b[0m                         Traceback (most recent call last)",
            "\u001b[0;32m<ipython-input-4-53af59a0f0a8>\u001b[0m in \u001b[0;36m<cell line: 0>\u001b[0;34m()\u001b[0m\n\u001b[1;32m     31\u001b[0m \u001b[0;34m\u001b[0m\u001b[0m\n\u001b[1;32m     32\u001b[0m \u001b[0;32mif\u001b[0m \u001b[0m__name__\u001b[0m \u001b[0;34m==\u001b[0m \u001b[0;34m\"__main__\"\u001b[0m\u001b[0;34m:\u001b[0m\u001b[0;34m\u001b[0m\u001b[0;34m\u001b[0m\u001b[0m\n\u001b[0;32m---> 33\u001b[0;31m   \u001b[0mmain\u001b[0m\u001b[0;34m(\u001b[0m\u001b[0;34m)\u001b[0m\u001b[0;34m\u001b[0m\u001b[0;34m\u001b[0m\u001b[0m\n\u001b[0m",
            "\u001b[0;32m<ipython-input-4-53af59a0f0a8>\u001b[0m in \u001b[0;36mmain\u001b[0;34m()\u001b[0m\n\u001b[1;32m     20\u001b[0m \u001b[0;34m\u001b[0m\u001b[0m\n\u001b[1;32m     21\u001b[0m   \u001b[0;32mwhile\u001b[0m \u001b[0;32mTrue\u001b[0m\u001b[0;34m:\u001b[0m\u001b[0;34m\u001b[0m\u001b[0;34m\u001b[0m\u001b[0m\n\u001b[0;32m---> 22\u001b[0;31m     \u001b[0mword\u001b[0m \u001b[0;34m=\u001b[0m \u001b[0minput\u001b[0m\u001b[0;34m(\u001b[0m\u001b[0;34m\": \"\u001b[0m\u001b[0;34m)\u001b[0m\u001b[0;34m\u001b[0m\u001b[0;34m\u001b[0m\u001b[0m\n\u001b[0m\u001b[1;32m     23\u001b[0m \u001b[0;34m\u001b[0m\u001b[0m\n\u001b[1;32m     24\u001b[0m     \u001b[0;32mif\u001b[0m \u001b[0;32mnot\u001b[0m \u001b[0mword\u001b[0m\u001b[0;34m:\u001b[0m\u001b[0;34m\u001b[0m\u001b[0;34m\u001b[0m\u001b[0m\n",
            "\u001b[0;32m/usr/local/lib/python3.11/dist-packages/ipykernel/kernelbase.py\u001b[0m in \u001b[0;36mraw_input\u001b[0;34m(self, prompt)\u001b[0m\n\u001b[1;32m   1175\u001b[0m                 \u001b[0;34m\"raw_input was called, but this frontend does not support input requests.\"\u001b[0m\u001b[0;34m\u001b[0m\u001b[0;34m\u001b[0m\u001b[0m\n\u001b[1;32m   1176\u001b[0m             )\n\u001b[0;32m-> 1177\u001b[0;31m         return self._input_request(\n\u001b[0m\u001b[1;32m   1178\u001b[0m             \u001b[0mstr\u001b[0m\u001b[0;34m(\u001b[0m\u001b[0mprompt\u001b[0m\u001b[0;34m)\u001b[0m\u001b[0;34m,\u001b[0m\u001b[0;34m\u001b[0m\u001b[0;34m\u001b[0m\u001b[0m\n\u001b[1;32m   1179\u001b[0m             \u001b[0mself\u001b[0m\u001b[0;34m.\u001b[0m\u001b[0m_parent_ident\u001b[0m\u001b[0;34m[\u001b[0m\u001b[0;34m\"shell\"\u001b[0m\u001b[0;34m]\u001b[0m\u001b[0;34m,\u001b[0m\u001b[0;34m\u001b[0m\u001b[0;34m\u001b[0m\u001b[0m\n",
            "\u001b[0;32m/usr/local/lib/python3.11/dist-packages/ipykernel/kernelbase.py\u001b[0m in \u001b[0;36m_input_request\u001b[0;34m(self, prompt, ident, parent, password)\u001b[0m\n\u001b[1;32m   1217\u001b[0m             \u001b[0;32mexcept\u001b[0m \u001b[0mKeyboardInterrupt\u001b[0m\u001b[0;34m:\u001b[0m\u001b[0;34m\u001b[0m\u001b[0;34m\u001b[0m\u001b[0m\n\u001b[1;32m   1218\u001b[0m                 \u001b[0;31m# re-raise KeyboardInterrupt, to truncate traceback\u001b[0m\u001b[0;34m\u001b[0m\u001b[0;34m\u001b[0m\u001b[0m\n\u001b[0;32m-> 1219\u001b[0;31m                 \u001b[0;32mraise\u001b[0m \u001b[0mKeyboardInterrupt\u001b[0m\u001b[0;34m(\u001b[0m\u001b[0;34m\"Interrupted by user\"\u001b[0m\u001b[0;34m)\u001b[0m \u001b[0;32mfrom\u001b[0m \u001b[0;32mNone\u001b[0m\u001b[0;34m\u001b[0m\u001b[0;34m\u001b[0m\u001b[0m\n\u001b[0m\u001b[1;32m   1220\u001b[0m             \u001b[0;32mexcept\u001b[0m \u001b[0mException\u001b[0m\u001b[0;34m:\u001b[0m\u001b[0;34m\u001b[0m\u001b[0;34m\u001b[0m\u001b[0m\n\u001b[1;32m   1221\u001b[0m                 \u001b[0mself\u001b[0m\u001b[0;34m.\u001b[0m\u001b[0mlog\u001b[0m\u001b[0;34m.\u001b[0m\u001b[0mwarning\u001b[0m\u001b[0;34m(\u001b[0m\u001b[0;34m\"Invalid Message:\"\u001b[0m\u001b[0;34m,\u001b[0m \u001b[0mexc_info\u001b[0m\u001b[0;34m=\u001b[0m\u001b[0;32mTrue\u001b[0m\u001b[0;34m)\u001b[0m\u001b[0;34m\u001b[0m\u001b[0;34m\u001b[0m\u001b[0m\n",
            "\u001b[0;31mKeyboardInterrupt\u001b[0m: Interrupted by user"
          ]
        }
      ]
    },
    {
      "cell_type": "code",
      "source": [
        "sddef main():\n",
        "  \"\"\"\n",
        "  Creates a dictionary of employee names and positions, and provides a menu\n",
        "  for interacting with it.\n",
        "  \"\"\"\n",
        "\n",
        "  employee_dict = {}\n",
        "\n",
        "  # Input seven employee name-position pairs\n",
        "  for _ in range(7):\n",
        "    name = input(\"Enter employee name: \")\n",
        "    position = input(\"Enter employee position: \")\n",
        "    employee_dict[name] = position\n",
        "\n",
        "  while True:\n",
        "    print(\"\\nMenu:\")\n",
        "    print(\"1. Find an employee's title\")\n",
        "    print(\"2. Find all employees with a given title\")\n",
        "    print(\"3. Quit\")\n",
        "\n",
        "    choice = input(\"Enter your choice: \")\n",
        "\n",
        "    if choice == '1':\n",
        "      name = input(\"Enter the employee's name: \")\n",
        "      if name in employee_dict:\n",
        "        print(f\"{name}'s position is {employee_dict[name]}.\")\n",
        "      else:\n",
        "        print(\"No one by that name is present.\")\n",
        "\n",
        "    elif choice == '2':\n",
        "      position = input(\"Enter the position: \")\n",
        "      employees_with_position = [name for name, pos in employee_dict.items() if pos == position]\n",
        "      if employees_with_position:\n",
        "        print(f\"Employees with the position '{position}':\")\n",
        "        for name in employees_with_position:\n",
        "          print(name)\n",
        "      else:\n",
        "        print(\"No employees hold that position.\")\n",
        "\n",
        "    elif choice == '3':\n",
        "      break\n",
        "\n",
        "    else:\n",
        "      print(\"Invalid choice. Please try again.\")\n",
        "\n",
        "\n",
        "if __name__ == \"__main__\":\n",
        "  main()\n"
      ],
      "metadata": {
        "colab": {
          "base_uri": "https://localhost:8080/"
        },
        "id": "ovbp4RD2uJsB",
        "outputId": "de129439-bcd0-4b1e-fd6e-8081f84c17cf"
      },
      "execution_count": 7,
      "outputs": [
        {
          "name": "stdout",
          "output_type": "stream",
          "text": [
            "Enter employee name: josh\n",
            "Enter employee position: hne\n",
            "Enter employee name: e\n",
            "Enter employee position: e\n",
            "Enter employee name: ew\n",
            "Enter employee position: e\n",
            "Enter employee name: fasd\n",
            "Enter employee position: fdsg\n",
            "Enter employee name: sdfg\n",
            "Enter employee position: sdfg\n",
            "Enter employee name: sdfg\n",
            "Enter employee position: sdfg\n",
            "Enter employee name: sdf\n",
            "Enter employee position: g\n",
            "\n",
            "Menu:\n",
            "1. Find an employee's title\n",
            "2. Find all employees with a given title\n",
            "3. Quit\n",
            "Enter your choice: fg\n",
            "Invalid choice. Please try again.\n",
            "\n",
            "Menu:\n",
            "1. Find an employee's title\n",
            "2. Find all employees with a given title\n",
            "3. Quit\n",
            "Enter your choice: 3\n"
          ]
        }
      ]
    }
  ]
}