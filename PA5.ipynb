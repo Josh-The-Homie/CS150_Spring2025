{
  "nbformat": 4,
  "nbformat_minor": 0,
  "metadata": {
    "colab": {
      "provenance": [],
      "authorship_tag": "ABX9TyPnmD/9QysfCHhphBEW65dH",
      "include_colab_link": true
    },
    "kernelspec": {
      "name": "python3",
      "display_name": "Python 3"
    },
    "language_info": {
      "name": "python"
    }
  },
  "cells": [
    {
      "cell_type": "markdown",
      "metadata": {
        "id": "view-in-github",
        "colab_type": "text"
      },
      "source": [
        "<a href=\"https://colab.research.google.com/github/Josh-The-Homie/CS150_Spring2025/blob/main/PA5.ipynb\" target=\"_parent\"><img src=\"https://colab.research.google.com/assets/colab-badge.svg\" alt=\"Open In Colab\"/></a>"
      ]
    },
    {
      "cell_type": "code",
      "execution_count": 1,
      "metadata": {
        "colab": {
          "base_uri": "https://localhost:8080/"
        },
        "id": "GROe-WBkor98",
        "outputId": "4adf84b5-3f1c-41ad-db39-f7af59dcc2b7"
      },
      "outputs": [
        {
          "output_type": "stream",
          "name": "stdout",
          "text": [
            "Enter a facility for building 1 (or 'Done'): a\n",
            "Enter a facility for building 1 (or 'Done'): a\n",
            "Enter a facility for building 1 (or 'Done'): Done\n",
            "Facilities for building 1: {'a'}\n"
          ]
        }
      ],
      "source": [
        "b1facilities = set()\n",
        "while True:\n",
        "  facility = input(\"Enter a facility for building 1 (or 'Done'): \")\n",
        "  if facility.lower() == \"done\":\n",
        "    break\n",
        "  b1facilities.add(facility)\n",
        "\n",
        "print(\"Facilities for building 1:\", b1facilities)\n"
      ]
    },
    {
      "cell_type": "code",
      "source": [
        "\n",
        "b1facilities = set()\n",
        "while True:\n",
        "  facility = input(\"Enter a facility for building 1 (or 'Done'): \")\n",
        "  if facility.lower() == \"done\":\n",
        "    break\n",
        "  b1facilities.add(facility)\n",
        "\n",
        "print(\"Facilities for building 1:\", b1facilities)\n",
        "\n",
        "b2facilities = set()\n",
        "while True:\n",
        "  facility = input(\"Enter a facility for building 2 (or 'Done'): \")\n",
        "  if facility.lower() == \"done\":\n",
        "    break\n",
        "  b2facilities.add(facility)\n",
        "\n",
        "print(\"Facilities for building 2:\", b2facilities)\n",
        "\n",
        "\n",
        "common_facilities = b1facilities.intersection(b2facilities)\n",
        "print(\"Common facilities:\", common_facilities)\n",
        "\n",
        "\n",
        "all_facilities = b1facilities.union(b2facilities)\n",
        "print(\"All facilities:\", all_facilities)\n"
      ],
      "metadata": {
        "colab": {
          "base_uri": "https://localhost:8080/"
        },
        "id": "_apE2VfcpJfl",
        "outputId": "f8a92e89-c856-44dc-b79b-58fc82af58fd"
      },
      "execution_count": 3,
      "outputs": [
        {
          "output_type": "stream",
          "name": "stdout",
          "text": [
            "Enter a facility for building 1 (or 'Done'): a\n",
            "Enter a facility for building 1 (or 'Done'): b\n",
            "Enter a facility for building 1 (or 'Done'): c\n",
            "Enter a facility for building 1 (or 'Done'): Done\n",
            "Facilities for building 1: {'c', 'b', 'a'}\n",
            "Enter a facility for building 2 (or 'Done'): a\n",
            "Enter a facility for building 2 (or 'Done'): P\n",
            "Enter a facility for building 2 (or 'Done'): o\n",
            "Enter a facility for building 2 (or 'Done'): Done\n",
            "Facilities for building 2: {'o', 'a', 'P'}\n",
            "Common facilities: {'a'}\n",
            "All facilities: {'c', 'b', 'o', 'a', 'P'}\n"
          ]
        }
      ]
    },
    {
      "cell_type": "code",
      "source": [
        "import math\n",
        "\n",
        "def triangle_solve(leg1, leg2):\n",
        "    hypotenuse = math.sqrt(leg1**2 + leg2**2)\n",
        "    perimeter = leg1 + leg2 + hypotenuse\n",
        "    area = (leg1 * leg2) / 2\n",
        "    return (round(hypotenuse), round(perimeter), round(area))\n",
        "\n",
        "\n",
        "leg1 = float(input(\"Enter the length of the first leg: \"))\n",
        "leg2 = float(input(\"Enter the length of the second leg: \"))\n",
        "\n",
        "\n",
        "result = triangle_solve(leg1, leg2)\n",
        "print(\"Hypotenuse:\", result[0])\n",
        "print(\"Perimeter:\", result[1])\n",
        "print(\"Area:\", result[2])\n"
      ],
      "metadata": {
        "colab": {
          "base_uri": "https://localhost:8080/"
        },
        "id": "v7bT7NnopfWJ",
        "outputId": "c8c01264-d5d0-4c4c-aa33-cd1a595a8eb0"
      },
      "execution_count": 10,
      "outputs": [
        {
          "output_type": "stream",
          "name": "stdout",
          "text": [
            "Enter the length of the first leg: 3\n",
            "Enter the length of the second leg: 4\n",
            "Hypotenuse: 5\n",
            "Perimeter: 12\n",
            "Area: 6\n"
          ]
        }
      ]
    },
    {
      "cell_type": "code",
      "source": [
        "class Calculator:\n",
        "    def __init__(self):\n",
        "        self.result_recent = None\n",
        "        self.total_calculations = 0\n",
        "\n",
        "    def add(self, a, b):\n",
        "        self.result_recent = a + b\n",
        "        self.total_calculations += 1\n",
        "        return self.result_recent\n",
        "\n",
        "    def subtract(self, a, b):\n",
        "        self.result_recent = a - b\n",
        "        self.total_calculations += 1\n",
        "        return self.result_recent\n",
        "\n",
        "    def multiply(self, a, b):\n",
        "        self.result_recent = a * b\n",
        "        self.total_calculations += 1\n",
        "        return self.result_recent\n",
        "\n",
        "    def divide(self, a, b):\n",
        "        if b == 0:\n",
        "            raise ValueError(\"Cannot divide by zero.\")\n",
        "        self.result_recent = a / b\n",
        "        self.total_calculations += 1\n",
        "        return self.result_recent\n",
        "\n",
        "    def floor_divide(self, a, b):\n",
        "        if b == 0:\n",
        "            raise ValueError(\"Cannot floor divide by zero.\")\n",
        "        self.result_recent = a // b\n",
        "        self.total_calculations += 1\n",
        "        return self.result_recent\n",
        "\n",
        "    def status(self):\n",
        "        print(f\"Most recent result: {self.result_recent}\")\n",
        "        print(f\"Total calculations: {self.total_calculations}\")\n",
        "\n",
        "\n",
        "def main():\n",
        "    calc = Calculator()\n",
        "\n",
        "    menu = \"\"\"\n",
        "Choose an operation:\n",
        "1. Add\n",
        "2. Subtract\n",
        "3. Multiply\n",
        "4. Divide\n",
        "5. Floor Divide\n",
        "6. Status\n",
        "7. Quit\n",
        "\"\"\"\n",
        "\n",
        "    while True:\n",
        "        print(menu)\n",
        "        choice = input(\"Enter choice (1-7): \")\n",
        "\n",
        "        if choice == \"7\":\n",
        "            print(\"Goodbye!\")\n",
        "            break\n",
        "        elif choice == \"6\":\n",
        "            calc.status()\n",
        "            continue\n",
        "        elif choice in {\"1\", \"2\", \"3\", \"4\", \"5\"}:\n",
        "            try:\n",
        "                a = float(input(\"Enter first number: \"))\n",
        "                b = float(input(\"Enter second number: \"))\n",
        "                if choice == \"1\":\n",
        "                    result = calc.add(a, b)\n",
        "                elif choice == \"2\":\n",
        "                    result = calc.subtract(a, b)\n",
        "                elif choice == \"3\":\n",
        "                    result = calc.multiply(a, b)\n",
        "                elif choice == \"4\":\n",
        "                    result = calc.divide(a, b)\n",
        "                elif choice == \"5\":\n",
        "                    result = calc.floor_divide(a, b)\n",
        "                print(f\"Result: {result}\")\n",
        "            except ValueError as e:\n",
        "                print(f\"Error: {e}\")\n",
        "        else:\n",
        "            print(\"Invalid choice. Please try again.\")\n",
        "\n",
        "if __name__ == \"__main__\":\n",
        "    main()\n"
      ],
      "metadata": {
        "colab": {
          "base_uri": "https://localhost:8080/"
        },
        "id": "3_Rl3vElqYWQ",
        "outputId": "fb56ac5d-5893-490e-9f00-29e98ce4f6c1"
      },
      "execution_count": 15,
      "outputs": [
        {
          "output_type": "stream",
          "name": "stdout",
          "text": [
            "\n",
            "Choose an operation:\n",
            "1. Add\n",
            "2. Subtract\n",
            "3. Multiply\n",
            "4. Divide\n",
            "5. Floor Divide\n",
            "6. Status\n",
            "7. Quit\n",
            "\n",
            "Enter choice (1-7): 6\n",
            "Most recent result: None\n",
            "Total calculations: 0\n",
            "\n",
            "Choose an operation:\n",
            "1. Add\n",
            "2. Subtract\n",
            "3. Multiply\n",
            "4. Divide\n",
            "5. Floor Divide\n",
            "6. Status\n",
            "7. Quit\n",
            "\n",
            "Enter choice (1-7): 3\n",
            "Enter first number: 93\n",
            "Enter second number: 92\n",
            "Result: 8556.0\n",
            "\n",
            "Choose an operation:\n",
            "1. Add\n",
            "2. Subtract\n",
            "3. Multiply\n",
            "4. Divide\n",
            "5. Floor Divide\n",
            "6. Status\n",
            "7. Quit\n",
            "\n",
            "Enter choice (1-7): 7\n",
            "Goodbye!\n"
          ]
        }
      ]
    }
  ]
}