{
  "cells": [
    {
      "cell_type": "markdown",
      "metadata": {
        "id": "view-in-github",
        "colab_type": "text"
      },
      "source": [
        "<a href=\"https://colab.research.google.com/github/Josh-The-Homie/CS150_Spring2025/blob/main/Chapter7ClassNB.ipynb\" target=\"_parent\"><img src=\"https://colab.research.google.com/assets/colab-badge.svg\" alt=\"Open In Colab\"/></a>"
      ]
    },
    {
      "cell_type": "markdown",
      "metadata": {
        "id": "mVL4b5QIXcPt"
      },
      "source": [
        "## What We Looked At Last Time\n",
        "* We looked in our last module at the necessity of using **conditional statements** to make decisions within code.\n",
        "* Throughout the process, we saw examples of simple **if** statements, as well as the slightly more nuanced **if-else** and **if-elif-else** statements.\n",
        "* Along the way, we looked in more detail at comparison operators (`==`, `!=`, `>=`, etc.), as well as the principal logical operators (**and**, **or**, **not**)."
      ]
    },
    {
      "cell_type": "markdown",
      "metadata": {
        "id": "ype8CpmzXcPu"
      },
      "source": [
        "## What We'll Look At In This Module\n",
        "* We'll move today into a discussion of **repetition** statements\n",
        "* More specifically, we look at the syntax and examples of **while** loops and **for** loops.\n",
        "* Along the way we'll touch on complications that can pop up when constructing loops (ex: infinite looping)."
      ]
    },
    {
      "cell_type": "markdown",
      "metadata": {
        "id": "m_2xUN-AXcPu"
      },
      "source": [
        "# While Loop\n",
        "* The for loop takes a collection of items and executes a block of code once for each item in the collection.\n",
        "* In contrast, the while loop runs as long as, or while, a certain condition is true.\n",
        "![image.png](attachment:image.png)"
      ]
    },
    {
      "cell_type": "markdown",
      "metadata": {
        "id": "8UX4bdkwXcPv"
      },
      "source": [
        "#### The while Loop in Action\n",
        "You can use a while loop to count up through a series of numbers. For\n",
        "example, the following while loop counts from 1 to 5:\n"
      ]
    },
    {
      "cell_type": "code",
      "execution_count": null,
      "metadata": {
        "id": "RTxOAYH7XcPv"
      },
      "outputs": [],
      "source": [
        "# while loop to print numbers from 1 to 5\n",
        "mycount = 1"
      ]
    },
    {
      "cell_type": "code",
      "execution_count": null,
      "metadata": {
        "id": "LBe2UceXXcPv"
      },
      "outputs": [],
      "source": [
        "#What happens if we leave off the increment portion (mycount = mycount + 1)?"
      ]
    },
    {
      "cell_type": "code",
      "execution_count": null,
      "metadata": {
        "id": "i3HLZRUlXcPw"
      },
      "outputs": [],
      "source": [
        "# We can print a much wider array of numbers if needed (ex: 10 through 50)\n",
        "mycount = 10"
      ]
    },
    {
      "cell_type": "code",
      "execution_count": null,
      "metadata": {
        "id": "3_I0o2zeXcPw"
      },
      "outputs": [],
      "source": [
        "#We can print specific numbers within the context of a loop (ex: even numbers between 10 and 50)\n",
        "mycount = 10"
      ]
    },
    {
      "cell_type": "code",
      "execution_count": null,
      "metadata": {
        "id": "I1gdMZ4BXcPw"
      },
      "outputs": [],
      "source": [
        "#We can also count DOWN using while loops.\n",
        "mycountdown = 5"
      ]
    },
    {
      "cell_type": "code",
      "execution_count": null,
      "metadata": {
        "id": "mAjt30syXcPw"
      },
      "outputs": [],
      "source": [
        "#We can use loops to print all multiples of 3 that are less than a particular number (ex: 50)\n",
        "product = 0"
      ]
    },
    {
      "cell_type": "markdown",
      "metadata": {
        "id": "yUO27ozYXcPw"
      },
      "source": [
        "## Practice 1: A Bit of Math and While Loops\n",
        "Use while loops to do each of the following: <br>\n",
        "i. Print all the numbers from 20 down to 10.<br>\n",
        "ii. Print all numeric squares (0, 1, 4, 9, 16, 25, etc.) less than 10^2 <br>\n",
        "iii. Print all the _two-digit_ multiples of 10 in reverse order.\n",
        "\n"
      ]
    },
    {
      "cell_type": "code",
      "execution_count": 1,
      "metadata": {
        "colab": {
          "base_uri": "https://localhost:8080/"
        },
        "id": "u0-dN06LXcPx",
        "outputId": "5e8af7f0-37ee-4c29-c199-63c81f81a7f5"
      },
      "outputs": [
        {
          "output_type": "stream",
          "name": "stdout",
          "text": [
            "20\n",
            "19\n",
            "18\n",
            "17\n",
            "16\n",
            "15\n",
            "14\n",
            "13\n",
            "12\n",
            "11\n",
            "10\n",
            "0\n",
            "1\n",
            "4\n",
            "9\n",
            "16\n",
            "25\n",
            "36\n",
            "49\n",
            "64\n",
            "81\n",
            "90\n",
            "80\n",
            "70\n",
            "60\n",
            "50\n",
            "40\n",
            "30\n",
            "20\n",
            "10\n"
          ]
        }
      ],
      "source": [
        "count = 20\n",
        "while count >= 10:\n",
        "  print(count)\n",
        "  count -= 1\n",
        "\n",
        "i = 0\n",
        "while i**2 < 100:\n",
        "  print(i**2)\n",
        "  i += 1\n",
        "\n",
        "i = 90\n",
        "while i >= 10:\n",
        "  print(i)\n",
        "  i -= 10\n"
      ]
    },
    {
      "cell_type": "markdown",
      "metadata": {
        "id": "R_zCWPgMXcPx"
      },
      "source": [
        "## Conditional and Repetition Statements\n",
        "* It is common to use conditional statements and repetition statements in conjunction with each other.\n",
        "* One simple option is to only execute a given while loop if a particular \"starting\" condition is met\n",
        "* Even more commonly, however, we will embed an if statement within a loop"
      ]
    },
    {
      "cell_type": "code",
      "execution_count": 4,
      "metadata": {
        "colab": {
          "base_uri": "https://localhost:8080/"
        },
        "id": "LON6AFxZXcPx",
        "outputId": "bc2e4f60-e9dc-4f5a-a78e-86e14a34355e"
      },
      "outputs": [
        {
          "output_type": "stream",
          "name": "stdout",
          "text": [
            "Enter a positive integer: 3\n",
            "1\n",
            "2\n",
            "3\n"
          ]
        }
      ],
      "source": [
        "def count_up_positive():\n",
        "    try:\n",
        "        input_value = int(input(\"Enter a positive integer: \"))\n",
        "        if input_value > 0:\n",
        "            count = 1\n",
        "            while count <= input_value:\n",
        "                print(count)\n",
        "                count += 1\n",
        "        else:\n",
        "            print(\"Input must be a positive integer.\")\n",
        "    except ValueError:\n",
        "        print(\"Invalid input. Please enter an integer.\")\n",
        "\n",
        "count_up_positive()\n"
      ]
    },
    {
      "cell_type": "code",
      "execution_count": null,
      "metadata": {
        "id": "kr7POaToXcPx"
      },
      "outputs": [],
      "source": [
        "# We can repeat our previous exercise involving even numbers using an if-statement within a while loop\n",
        "\n"
      ]
    },
    {
      "cell_type": "code",
      "execution_count": null,
      "metadata": {
        "id": "YWYKkljZXcPx"
      },
      "outputs": [],
      "source": [
        "# With a very simple change, we can modify our previous set of statements to accomodate odd numbers instead of even"
      ]
    },
    {
      "cell_type": "markdown",
      "metadata": {
        "id": "yBs8xV1UXcPx"
      },
      "source": [
        "## Practice 2: Using While/If Combinations\n",
        "Use while loops and if statements to accomplish each of the following tasks:\n",
        "i. Print all even numbers starting at 100 and going down to 0.\n",
        "ii. Print all three-digit, positive multiples of 5\n",
        "iii. (Optional) See if you can repeat (ii) without an if statement\n",
        "\n",
        "\n"
      ]
    },
    {
      "cell_type": "code",
      "execution_count": 5,
      "metadata": {
        "colab": {
          "base_uri": "https://localhost:8080/"
        },
        "id": "kLC1j47nXcPx",
        "outputId": "47b8c2a8-2e07-4488-92cc-85c6074baa37"
      },
      "outputs": [
        {
          "output_type": "stream",
          "name": "stdout",
          "text": [
            "100\n",
            "98\n",
            "96\n",
            "94\n",
            "92\n",
            "90\n",
            "88\n",
            "86\n",
            "84\n",
            "82\n",
            "80\n",
            "78\n",
            "76\n",
            "74\n",
            "72\n",
            "70\n",
            "68\n",
            "66\n",
            "64\n",
            "62\n",
            "60\n",
            "58\n",
            "56\n",
            "54\n",
            "52\n",
            "50\n",
            "48\n",
            "46\n",
            "44\n",
            "42\n",
            "40\n",
            "38\n",
            "36\n",
            "34\n",
            "32\n",
            "30\n",
            "28\n",
            "26\n",
            "24\n",
            "22\n",
            "20\n",
            "18\n",
            "16\n",
            "14\n",
            "12\n",
            "10\n",
            "8\n",
            "6\n",
            "4\n",
            "2\n",
            "0\n",
            "100\n",
            "105\n",
            "110\n",
            "115\n",
            "120\n",
            "125\n",
            "130\n",
            "135\n",
            "140\n",
            "145\n",
            "150\n",
            "155\n",
            "160\n",
            "165\n",
            "170\n",
            "175\n",
            "180\n",
            "185\n",
            "190\n",
            "195\n",
            "200\n",
            "205\n",
            "210\n",
            "215\n",
            "220\n",
            "225\n",
            "230\n",
            "235\n",
            "240\n",
            "245\n",
            "250\n",
            "255\n",
            "260\n",
            "265\n",
            "270\n",
            "275\n",
            "280\n",
            "285\n",
            "290\n",
            "295\n",
            "300\n",
            "305\n",
            "310\n",
            "315\n",
            "320\n",
            "325\n",
            "330\n",
            "335\n",
            "340\n",
            "345\n",
            "350\n",
            "355\n",
            "360\n",
            "365\n",
            "370\n",
            "375\n",
            "380\n",
            "385\n",
            "390\n",
            "395\n",
            "400\n",
            "405\n",
            "410\n",
            "415\n",
            "420\n",
            "425\n",
            "430\n",
            "435\n",
            "440\n",
            "445\n",
            "450\n",
            "455\n",
            "460\n",
            "465\n",
            "470\n",
            "475\n",
            "480\n",
            "485\n",
            "490\n",
            "495\n",
            "500\n",
            "505\n",
            "510\n",
            "515\n",
            "520\n",
            "525\n",
            "530\n",
            "535\n",
            "540\n",
            "545\n",
            "550\n",
            "555\n",
            "560\n",
            "565\n",
            "570\n",
            "575\n",
            "580\n",
            "585\n",
            "590\n",
            "595\n",
            "600\n",
            "605\n",
            "610\n",
            "615\n",
            "620\n",
            "625\n",
            "630\n",
            "635\n",
            "640\n",
            "645\n",
            "650\n",
            "655\n",
            "660\n",
            "665\n",
            "670\n",
            "675\n",
            "680\n",
            "685\n",
            "690\n",
            "695\n",
            "700\n",
            "705\n",
            "710\n",
            "715\n",
            "720\n",
            "725\n",
            "730\n",
            "735\n",
            "740\n",
            "745\n",
            "750\n",
            "755\n",
            "760\n",
            "765\n",
            "770\n",
            "775\n",
            "780\n",
            "785\n",
            "790\n",
            "795\n",
            "800\n",
            "805\n",
            "810\n",
            "815\n",
            "820\n",
            "825\n",
            "830\n",
            "835\n",
            "840\n",
            "845\n",
            "850\n",
            "855\n",
            "860\n",
            "865\n",
            "870\n",
            "875\n",
            "880\n",
            "885\n",
            "890\n",
            "895\n",
            "900\n",
            "905\n",
            "910\n",
            "915\n",
            "920\n",
            "925\n",
            "930\n",
            "935\n",
            "940\n",
            "945\n",
            "950\n",
            "955\n",
            "960\n",
            "965\n",
            "970\n",
            "975\n",
            "980\n",
            "985\n",
            "990\n",
            "995\n",
            "100\n",
            "105\n",
            "110\n",
            "115\n",
            "120\n",
            "125\n",
            "130\n",
            "135\n",
            "140\n",
            "145\n",
            "150\n",
            "155\n",
            "160\n",
            "165\n",
            "170\n",
            "175\n",
            "180\n",
            "185\n",
            "190\n",
            "195\n",
            "200\n",
            "205\n",
            "210\n",
            "215\n",
            "220\n",
            "225\n",
            "230\n",
            "235\n",
            "240\n",
            "245\n",
            "250\n",
            "255\n",
            "260\n",
            "265\n",
            "270\n",
            "275\n",
            "280\n",
            "285\n",
            "290\n",
            "295\n",
            "300\n",
            "305\n",
            "310\n",
            "315\n",
            "320\n",
            "325\n",
            "330\n",
            "335\n",
            "340\n",
            "345\n",
            "350\n",
            "355\n",
            "360\n",
            "365\n",
            "370\n",
            "375\n",
            "380\n",
            "385\n",
            "390\n",
            "395\n",
            "400\n",
            "405\n",
            "410\n",
            "415\n",
            "420\n",
            "425\n",
            "430\n",
            "435\n",
            "440\n",
            "445\n",
            "450\n",
            "455\n",
            "460\n",
            "465\n",
            "470\n",
            "475\n",
            "480\n",
            "485\n",
            "490\n",
            "495\n",
            "500\n",
            "505\n",
            "510\n",
            "515\n",
            "520\n",
            "525\n",
            "530\n",
            "535\n",
            "540\n",
            "545\n",
            "550\n",
            "555\n",
            "560\n",
            "565\n",
            "570\n",
            "575\n",
            "580\n",
            "585\n",
            "590\n",
            "595\n",
            "600\n",
            "605\n",
            "610\n",
            "615\n",
            "620\n",
            "625\n",
            "630\n",
            "635\n",
            "640\n",
            "645\n",
            "650\n",
            "655\n",
            "660\n",
            "665\n",
            "670\n",
            "675\n",
            "680\n",
            "685\n",
            "690\n",
            "695\n",
            "700\n",
            "705\n",
            "710\n",
            "715\n",
            "720\n",
            "725\n",
            "730\n",
            "735\n",
            "740\n",
            "745\n",
            "750\n",
            "755\n",
            "760\n",
            "765\n",
            "770\n",
            "775\n",
            "780\n",
            "785\n",
            "790\n",
            "795\n",
            "800\n",
            "805\n",
            "810\n",
            "815\n",
            "820\n",
            "825\n",
            "830\n",
            "835\n",
            "840\n",
            "845\n",
            "850\n",
            "855\n",
            "860\n",
            "865\n",
            "870\n",
            "875\n",
            "880\n",
            "885\n",
            "890\n",
            "895\n",
            "900\n",
            "905\n",
            "910\n",
            "915\n",
            "920\n",
            "925\n",
            "930\n",
            "935\n",
            "940\n",
            "945\n",
            "950\n",
            "955\n",
            "960\n",
            "965\n",
            "970\n",
            "975\n",
            "980\n",
            "985\n",
            "990\n",
            "995\n"
          ]
        }
      ],
      "source": [
        "\n",
        "count = 100\n",
        "while count >= 0:\n",
        "  if count % 2 == 0:\n",
        "    print(count)\n",
        "  count -= 1\n",
        "\n",
        "\n",
        "count = 100\n",
        "while count <= 999:\n",
        "  if count % 5 == 0:\n",
        "    print(count)\n",
        "  count += 1\n",
        "\n",
        "\n",
        "count = 100\n",
        "while count <= 999:\n",
        "  print(count)\n",
        "  count += 5\n"
      ]
    },
    {
      "cell_type": "markdown",
      "metadata": {
        "id": "ShfuAIa8XcPx"
      },
      "source": [
        "## Repetition Statements and Counter/Cumulation Variables\n",
        "* A traditional practice in programming is to keep track of the number of times a while loop has executed in a separate variable\n",
        "* This becomes useful in a scenario where we are not simply counting up from 1 to a particular maximum.\n",
        "* In addition, we can use these extra variables to **cumulate** values involving a loop.  "
      ]
    },
    {
      "cell_type": "code",
      "execution_count": null,
      "metadata": {
        "id": "_ToZXm8PXcPx"
      },
      "outputs": [],
      "source": [
        "# Count the number of times we have run through a countdown loop"
      ]
    },
    {
      "cell_type": "code",
      "execution_count": null,
      "metadata": {
        "id": "cIDKfxCIXcPx"
      },
      "outputs": [],
      "source": [
        "# Print the odd numbers from 0 to 100, and count the total along the way"
      ]
    },
    {
      "cell_type": "code",
      "execution_count": null,
      "metadata": {
        "id": "jTJfHpgXXcPx"
      },
      "outputs": [],
      "source": [
        "# Find the sum of ALL NUMBERS between 1 and 10"
      ]
    },
    {
      "cell_type": "markdown",
      "metadata": {
        "id": "9EuaEpvCXcPx"
      },
      "source": [
        "## Practice 3: Using Counter Variables and While/If Combinations\n",
        "Use the things we have looked at today and recently to do each of the following (Use a print statement at the end for each to verify the total is correct): <br>\n",
        "i. Find the sum of all _even_ numbers between 1 and 20\n",
        "ii. Prompt the user for an input positive integer.  1. If the number they input is not positive, tell them \"Your number is not Positive. 2. If it is positive, print back the **product** of all numbers from 1 to whatever value they input.\n",
        "\n"
      ]
    },
    {
      "cell_type": "code",
      "execution_count": 7,
      "metadata": {
        "colab": {
          "base_uri": "https://localhost:8080/"
        },
        "id": "ilkTeiiDXcPy",
        "outputId": "842ff059-d4eb-495b-e65a-06232846e1ca"
      },
      "outputs": [
        {
          "output_type": "stream",
          "name": "stdout",
          "text": [
            "Sum of even numbers between 1 and 20: 110\n",
            "Enter a positive integer: 5\n",
            "Product of numbers from 1 to 5 : 120\n"
          ]
        }
      ],
      "source": [
        "\n",
        "sum_even = 0\n",
        "count = 1\n",
        "while count <= 20:\n",
        "  if count % 2 == 0:\n",
        "    sum_even += count\n",
        "  count += 1\n",
        "print(\"Sum of even numbers between 1 and 20:\", sum_even)\n",
        "\n",
        "\n",
        "\n",
        "try:\n",
        "    input_value = int(input(\"Enter a positive integer: \"))\n",
        "    if input_value > 0:\n",
        "        product = 1\n",
        "        count = 1\n",
        "        while count <= input_value:\n",
        "            product *= count\n",
        "            count += 1\n",
        "        print(\"Product of numbers from 1 to\", input_value, \":\", product)\n",
        "    else:\n",
        "        print(\"Your number is not Positive.\")\n",
        "except ValueError:\n",
        "    print(\"Invalid input. Please enter an integer.\")\n"
      ]
    },
    {
      "cell_type": "markdown",
      "metadata": {
        "id": "9crN59G_XcPy"
      },
      "source": [
        "## More on While Loops\n",
        "* Thus far we have looked at while loops in the context of numbers, arithmetic, and counting/cumulation.\n",
        "* Because while loops can consider any condition, they are actually MUCH more powerful in practice."
      ]
    },
    {
      "cell_type": "code",
      "execution_count": null,
      "metadata": {
        "id": "XLbncHaxXcPy"
      },
      "outputs": [],
      "source": [
        "# We can use a while loop to keep receiving input from the user until a specific condition is met.\n",
        "prompt=\"\\nTell me anything and I will repeat it back to you. Enter \\'quit\\' to end the loop: \"\n"
      ]
    },
    {
      "cell_type": "markdown",
      "metadata": {
        "id": "u22iXNX_XcPy"
      },
      "source": [
        "## Programming Flags\n",
        "* A **flag** in programming refers to a boolean (True or False) or bit (1 or 1) variable that signals a special condition or yes/no option\n",
        "* Flags are often used as parameters to command-line programs or scripts.\n",
        "* Flags may also be used to indicate that a program should remain active (flag is True) or is finished (flag is False) with all needed actions/tasks."
      ]
    },
    {
      "cell_type": "code",
      "execution_count": null,
      "metadata": {
        "id": "5B8JASkpXcPy"
      },
      "outputs": [],
      "source": [
        "# Add UP to 5 positive numbers input by the user and print the result back to them\n",
        "prompt=\"\\nGive me at most five positive numbers.  I will add their total and print it back to you.  Input a negative value or 0 to stop early: \"\n",
        "active=True # flag\n"
      ]
    },
    {
      "cell_type": "markdown",
      "metadata": {
        "id": "K_Cun3qxXcPy"
      },
      "source": [
        "## Using break to Exit a Loop\n",
        "* To exit a while loop _early_ without running any remaining code, use the **break** statement.\n",
        "* The break statement may be used to provide a secondary \"way out\" of a loop given an alternative condition\n",
        "* It may also provide a means to safeguard against infinite looping in practice."
      ]
    },
    {
      "cell_type": "code",
      "execution_count": null,
      "metadata": {
        "id": "12trMuReXcPy"
      },
      "outputs": [],
      "source": [
        "# We can repeat our previous example of adding together positive numbers using a break statement"
      ]
    },
    {
      "cell_type": "markdown",
      "metadata": {
        "id": "XI9VHn4eXcPy"
      },
      "source": [
        "## Python Libraries\n",
        "* Python **libraries** provide additional, \"pre-packaged\" code that helps us accomplish crucial tasks in programming\n",
        "* We will make use of several key libraries throughout the semester, including some for plotting graphs, some for data storage, and some for input/output to files.\n",
        "* Our example below imports the _randint_ function from the **random** library, which will let us generate a random whole number within a given range."
      ]
    },
    {
      "cell_type": "code",
      "execution_count": null,
      "metadata": {
        "id": "4SkAMD7iXcPy"
      },
      "outputs": [],
      "source": [
        "# The text immediately following \"from\" indicates the library we are using.\n",
        "# The text immediately following \"import\" indicates which function or other structure we are using in our code\n",
        "from random import randint\n"
      ]
    },
    {
      "cell_type": "markdown",
      "metadata": {
        "id": "HHmxGu7uXcPy"
      },
      "source": [
        "### Practice 4: Guess the number (A Bit Tricky!)\n",
        "* Try to create a guessing game where the user inputs a number between 1 and 10.  If the number matches a randomly generated \"correct\" number, the program will stop and let the user know they had a correct guess.  If the number does not match it will let the user know their number didn't match and prompt them to try again.\n",
        "* The code below should get you started (the first line has the prompt, the second line will generate a random # in the range of 1 to 10, and the third initializes a flag indicating the program is initially active"
      ]
    },
    {
      "cell_type": "code",
      "execution_count": 8,
      "metadata": {
        "colab": {
          "base_uri": "https://localhost:8080/"
        },
        "id": "jgT3B1EyXcPy",
        "outputId": "204a6872-b5b9-4dc7-8974-2f8241b3c4d6"
      },
      "outputs": [
        {
          "output_type": "stream",
          "name": "stdout",
          "text": [
            "Guess a number between 1 and 10: 4\n",
            "Incorrect guess. Try again.\n",
            "Guess a number between 1 and 10: 5\n",
            "Incorrect guess. Try again.\n",
            "Guess a number between 1 and 10: 3\n",
            "Incorrect guess. Try again.\n",
            "Guess a number between 1 and 10: 2\n",
            "Incorrect guess. Try again.\n",
            "Guess a number between 1 and 10: 1\n",
            "You guessed correctly!\n"
          ]
        }
      ],
      "source": [
        "from random import randint\n",
        "\n",
        "guess = int(input(\"Guess a number between 1 and 10: \"))\n",
        "correct_number = randint(1, 10)\n",
        "active = True\n",
        "\n",
        "while active:\n",
        "    if guess == correct_number:\n",
        "        print(\"You guessed correctly!\")\n",
        "        active = False\n",
        "    else:\n",
        "        print(\"Incorrect guess. Try again.\")\n",
        "        guess = int(input(\"Guess a number between 1 and 10: \"))\n"
      ]
    },
    {
      "cell_type": "code",
      "execution_count": null,
      "metadata": {
        "id": "eYOEpuEXXcPy"
      },
      "outputs": [],
      "source": [
        "prompt=\"\\n Guess a number between 1 to 10: \"\n",
        "number= randint(1,10)\n",
        "active= True"
      ]
    },
    {
      "cell_type": "markdown",
      "metadata": {
        "id": "1ZJw0XvSXcPy"
      },
      "source": [
        "### Practice 4 Revised: Guess the number with directional guidance\n",
        "* We can make our previous guessing game a little bit easier by providing a directional guide in cases where the # is missed (i.e. if their guess is too large, we can let them know as much)"
      ]
    },
    {
      "cell_type": "code",
      "execution_count": 9,
      "metadata": {
        "colab": {
          "base_uri": "https://localhost:8080/"
        },
        "id": "iUeRhppfXcPy",
        "outputId": "f9f5e192-f05c-4301-9fa2-4e226ed69e07"
      },
      "outputs": [
        {
          "output_type": "stream",
          "name": "stdout",
          "text": [
            "\n",
            "Guess a number between 1 to 10: 8\n",
            "Too high! Try again.\n",
            "\n",
            "Guess a number between 1 to 10: 5\n",
            "Too high! Try again.\n",
            "\n",
            "Guess a number between 1 to 10: 2\n",
            "You guessed correctly!\n"
          ]
        }
      ],
      "source": [
        "from random import randint\n",
        "\n",
        "prompt = \"\\nGuess a number between 1 to 10: \"\n",
        "number = randint(1, 10)\n",
        "active = True\n",
        "\n",
        "while active:\n",
        "    try:\n",
        "        guess = int(input(prompt))\n",
        "        if guess == number:\n",
        "            print(\"You guessed correctly!\")\n",
        "            active = False\n",
        "        elif guess < number:\n",
        "            print(\"Too low! Try again.\")\n",
        "        else:\n",
        "            print(\"Too high! Try again.\")\n",
        "    except ValueError:\n",
        "        print(\"Invalid input. Please enter an integer.\")\n"
      ]
    },
    {
      "cell_type": "markdown",
      "metadata": {
        "id": "1gquKBOSXcPz"
      },
      "source": [
        "### Using continue in a Loop\n",
        "- On some occasions we may want to skip back to the BEGINNING of a loop's body rather than immediately breaking out\n",
        "- You can use the **continue** statement to return to the beginning of the loop (specifically, the conditional test).\n",
        "- _continue_ is best used when there is a segment of code in the loop that you may or may not want to skip"
      ]
    },
    {
      "cell_type": "code",
      "execution_count": null,
      "metadata": {
        "id": "_ffaigN_XcPz"
      },
      "outputs": [],
      "source": [
        "# We can \"skip\" a specific number when counting with a loop using continue"
      ]
    },
    {
      "cell_type": "code",
      "execution_count": null,
      "metadata": {
        "id": "crYspz7gXcP2"
      },
      "outputs": [],
      "source": [
        "# We can even \"ignore\" user inputs that don't meet a given criteria without stopping the loop entirely.\n",
        "prompt=\"\\nPlease input a series of numbers. If positive, I will add it to a running total.  If negative, I will skip it.  Use 0 to exit.\"\n",
        "active=True # flag"
      ]
    },
    {
      "cell_type": "markdown",
      "metadata": {
        "id": "FwT2d3o8XcP2"
      },
      "source": [
        "## Practice 5: Movie Tickets\n",
        "Your task here is to simulate a transaction for a party of movie-goers to a theater as follows:<br>\n",
        "The theater charges different ticket prices depending on a person’s age:\n",
        "- If a person is under the age of 3, the ticket is free\n",
        "- if they are between 3 and 12, the ticket is 10 dollars\n",
        "- if they are over the age 12, the ticket is 15 dollars. <br><br>\n",
        "Write a while loop in which you ask a user to the ages of all members of their party , and then tell them the **cumulative cost** of their movie tickets."
      ]
    },
    {
      "cell_type": "code",
      "execution_count": 10,
      "metadata": {
        "colab": {
          "base_uri": "https://localhost:8080/"
        },
        "id": "9yeMmbeVXcP3",
        "outputId": "6c243543-5f4d-4d21-9429-43b368cbdc12"
      },
      "outputs": [
        {
          "output_type": "stream",
          "name": "stdout",
          "text": [
            "\n",
            "Enter the age of each person in your party (enter a negative number to finish): 40\n",
            "\n",
            "Enter the age of each person in your party (enter a negative number to finish): 30\n",
            "\n",
            "Enter the age of each person in your party (enter a negative number to finish): 20\n",
            "\n",
            "Enter the age of each person in your party (enter a negative number to finish): 20\n",
            "\n",
            "Enter the age of each person in your party (enter a negative number to finish): -1\n",
            "\n",
            "The total cost of movie tickets for your party is: $60\n"
          ]
        }
      ],
      "source": [
        "\n",
        "prompt = \"\\nEnter the age of each person in your party (enter a negative number to finish): \"\n",
        "total_cost = 0\n",
        "while True:\n",
        "    try:\n",
        "        age = int(input(prompt))\n",
        "        if age < 0:\n",
        "            break\n",
        "        elif age < 3:\n",
        "            total_cost += 0\n",
        "        elif age <= 12 :\n",
        "            total_cost += 10\n",
        "        else:\n",
        "            total_cost += 15\n",
        "    except ValueError:\n",
        "        print(\"Invalid input. Please enter an integer.\")\n",
        "\n",
        "print(\"\\nThe total cost of movie tickets for your party is: $\" + str(total_cost))\n"
      ]
    },
    {
      "cell_type": "markdown",
      "metadata": {
        "id": "sZ4LHuqDXcP3"
      },
      "source": [
        "## Using a while Loop with Lists\n",
        "* Very often we want to conduct a looping operation or operations on a _collection_ of elements, as opposed to an individual element/variable.\n",
        "* While loops can be used to carry out a series of operations using a list (or possibly _on_ a list).\n",
        "* When using while loops with lists (or other collections), using a counter variable is often a necessity."
      ]
    },
    {
      "cell_type": "markdown",
      "metadata": {
        "id": "-xqPAlwMXcP3"
      },
      "source": [
        "## Copying Items from One List to Another"
      ]
    },
    {
      "cell_type": "code",
      "execution_count": null,
      "metadata": {
        "id": "mhuvHZr_XcP3"
      },
      "outputs": [],
      "source": [
        "mylist1 = ['a', 'b', 'c', 'd', 'e']\n",
        "mylist2 = [1, 2, 3, 4, 5]\n"
      ]
    },
    {
      "cell_type": "code",
      "execution_count": null,
      "metadata": {
        "id": "h9-F6tNIXcP3"
      },
      "outputs": [],
      "source": [
        "mylist1 = ['a', 'b', 'c', 'd', 'e']\n",
        "mylist2 = [1, 2, 3, 4, 5]"
      ]
    },
    {
      "cell_type": "markdown",
      "metadata": {
        "id": "-kxTjTwrXcP3"
      },
      "source": [
        "### Removing All Instances of Specific Values from a List"
      ]
    },
    {
      "cell_type": "code",
      "execution_count": null,
      "metadata": {
        "id": "bM_yeYj_XcP3"
      },
      "outputs": [],
      "source": [
        "mywordlist = ['The','time','we','had','together','had','been','the','best','any','had','had.']"
      ]
    },
    {
      "cell_type": "code",
      "execution_count": null,
      "metadata": {
        "id": "0wd9XMSsXcP3"
      },
      "outputs": [],
      "source": []
    },
    {
      "cell_type": "markdown",
      "metadata": {
        "id": "UlMfFFFGXcP3"
      },
      "source": [
        "## Revisiting While Loops and Calculations\n",
        "* Previously we saw the use of counter/cumulator variables in performing calculations on collections of numbers.\n",
        "* We can alternatively build a list based on user input using a while loop and then perform calculations afterwards."
      ]
    },
    {
      "cell_type": "code",
      "execution_count": null,
      "metadata": {
        "id": "cT584yCUXcP3"
      },
      "outputs": [],
      "source": [
        "prompt=\"\\nPlease input a series of non-zero numbers. I will tell you their sum, mean, and how many #s you gave me: \"\n",
        "active=True # flag\n",
        "listofnums = []"
      ]
    },
    {
      "cell_type": "markdown",
      "metadata": {
        "id": "Jf-r8oKMXcP3"
      },
      "source": [
        "# `for` Statement\n",
        "* In Python, a principal alternative to the while loop is the **for** loop\n",
        "* Unlike the while loop, which relies on a _condition_ for starting and stopping, the for loop applies its actions for _each item_ within an **iterable collection**.\n",
        "* An iterable collection is any data type involving a group of elements with positional order (examples we have seen of these so far are lists and strings.)"
      ]
    },
    {
      "cell_type": "code",
      "execution_count": null,
      "metadata": {
        "id": "JitJxuo5XcP3"
      },
      "outputs": [],
      "source": [
        "mynumlist = [1, 4, 9, 16, 25]"
      ]
    },
    {
      "cell_type": "code",
      "execution_count": null,
      "metadata": {
        "id": "Rh9k29kwXcP3"
      },
      "outputs": [],
      "source": [
        "mystr = 'Python'"
      ]
    },
    {
      "cell_type": "markdown",
      "metadata": {
        "id": "TEQ68IncXcP4"
      },
      "source": [
        "### Examining the cell above\n",
        "* Upon entering the `for` loop, Python assigns the 'P' in 'Python' to the **target variable** between keywords `for` and `in`.\n",
        "* After executing the suite, Python assigns to character the next item in the sequence (that is, the '`y`' in '`Python`'), then executes the suite again.\n",
        "* This continues so long as there are more items in the sequence."
      ]
    },
    {
      "cell_type": "code",
      "execution_count": null,
      "metadata": {
        "id": "MaKiqsFzXcP4"
      },
      "outputs": [],
      "source": [
        "#We can also use for loops with variables to cumulate values just as we saw with while loops:\n",
        "for number in [2, -3, 0, 17, 9]:"
      ]
    },
    {
      "cell_type": "markdown",
      "metadata": {
        "id": "VJXnUo4bXcP4"
      },
      "source": [
        "### Small Tangent: Function `print`’s `end` Keyword Argument\n",
        "* `print` displays its argument(s), then moves the cursor to the next line.\n",
        "* Can change this behavior with the argument `end`:\n",
        ">```python\n",
        "print(character, end='  ')\n",
        "```\n",
        "* `end` is a **keyword argument**, but it's not a Python keyword.\n",
        "* The _Style Guide for Python Code_ recommends placing no spaces around a keyword argument’s =.\n",
        "* Keyword arguments are sometimes called named arguments."
      ]
    },
    {
      "cell_type": "code",
      "execution_count": null,
      "metadata": {
        "id": "wrm3gznCXcP4"
      },
      "outputs": [],
      "source": [
        "mystr = 'Python'"
      ]
    },
    {
      "cell_type": "markdown",
      "metadata": {
        "id": "QTN9tUbcXcP4"
      },
      "source": [
        "### Function `print`’s `sep` Keyword Argument\n",
        "* Keyword argument `sep` (short for separator) specifies the string that appears between the items that print displays.\n",
        "* A space character by default.\n",
        "* To remove the spaces, use an empty string with no characters between its quotes."
      ]
    },
    {
      "cell_type": "code",
      "execution_count": null,
      "metadata": {
        "id": "NMYOURVPXcP4"
      },
      "outputs": [],
      "source": [
        "print(10, 20, 30, sep='; ')"
      ]
    },
    {
      "cell_type": "markdown",
      "metadata": {
        "id": "OeP1myzUXcP4"
      },
      "source": [
        "Let's use  both _while_ and _for_loops to write code to print the letters of the phrase 'Jupyter Notebook' backwards in a single line\n"
      ]
    },
    {
      "cell_type": "markdown",
      "metadata": {
        "id": "ZErFaGzwXcP4"
      },
      "source": [
        "## Practice 6: Working with a List of Strings and Loops\n",
        "Your task here is to consider the list named **commands** below, and create both i. _for loop_ and ii. _while loop_ (i.e. you'll be doing this task twice in total) to do the following:\n",
        "i. Count the cumulative total number of characters across _all_ individual words in the list\n",
        "ii. Count the number of times the word 'stop' occurs within the list.\n",
        "iii. Count the total number of _every_ four-letter word within the list."
      ]
    },
    {
      "cell_type": "code",
      "execution_count": 11,
      "metadata": {
        "id": "JwXwMwpRXcP4"
      },
      "outputs": [],
      "source": [
        "commands = ['begin','stop','left','forward','forward','stop','right','back','back','stop','right','forward','stop','end']"
      ]
    },
    {
      "cell_type": "code",
      "execution_count": 12,
      "metadata": {
        "colab": {
          "base_uri": "https://localhost:8080/"
        },
        "id": "wpCLWdPKXcP4",
        "outputId": "6f72666d-f35d-4e73-ce38-c7f72ddc140f"
      },
      "outputs": [
        {
          "output_type": "stream",
          "name": "stdout",
          "text": [
            "For Loop Results:\n",
            "Total characters: 67\n",
            "Number of times 'stop' appears: 4\n",
            "Number of four-letter words: 7\n",
            "\n",
            "While Loop Results:\n",
            "Total characters: 67\n",
            "Number of times 'stop' appears: 4\n",
            "Number of four-letter words: 7\n"
          ]
        }
      ],
      "source": [
        "\n",
        "commands = ['begin','stop','left','forward','forward','stop','right','back','back','stop','right','forward','stop','end']\n",
        "\n",
        "\n",
        "char_count = 0\n",
        "stop_count = 0\n",
        "four_letter_word_count = 0\n",
        "\n",
        "for word in commands:\n",
        "  char_count += len(word)\n",
        "  if word == 'stop':\n",
        "    stop_count += 1\n",
        "  if len(word) == 4:\n",
        "    four_letter_word_count += 1\n",
        "\n",
        "print(\"For Loop Results:\")\n",
        "print(\"Total characters:\", char_count)\n",
        "print(\"Number of times 'stop' appears:\", stop_count)\n",
        "print(\"Number of four-letter words:\", four_letter_word_count)\n",
        "\n",
        "\n",
        "\n",
        "char_count = 0\n",
        "stop_count = 0\n",
        "four_letter_word_count = 0\n",
        "i = 0\n",
        "\n",
        "while i < len(commands):\n",
        "  word = commands[i]\n",
        "  char_count += len(word)\n",
        "  if word == 'stop':\n",
        "    stop_count += 1\n",
        "  if len(word) == 4:\n",
        "    four_letter_word_count += 1\n",
        "  i += 1\n",
        "\n",
        "print(\"\\nWhile Loop Results:\")\n",
        "print(\"Total characters:\", char_count)\n",
        "print(\"Number of times 'stop' appears:\", stop_count)\n",
        "print(\"Number of four-letter words:\", four_letter_word_count)\n"
      ]
    },
    {
      "cell_type": "code",
      "execution_count": null,
      "metadata": {
        "id": "CPZMfzqNXcP4"
      },
      "outputs": [],
      "source": []
    },
    {
      "cell_type": "markdown",
      "metadata": {
        "id": "BVSOeAxpXcP4"
      },
      "source": [
        "## Built-In `range` Function and Generators\n",
        "* Creates an iterable object that represents a sequence of consecutive integer values starting from 0 and continuing up to, but **not including**, the argument value.\n",
        "* range may used in place of lists with for loops when elements are sequentially ordered\n",
        "* range may also be used in _creating_ a list using the keyword **list**."
      ]
    },
    {
      "cell_type": "code",
      "execution_count": null,
      "metadata": {
        "id": "8IqQi_vpXcP4"
      },
      "outputs": [],
      "source": [
        "for counter in range(5):"
      ]
    },
    {
      "cell_type": "code",
      "execution_count": null,
      "metadata": {
        "id": "MH3VRNY7XcP5"
      },
      "outputs": [],
      "source": [
        "mylistto9 = list(range(10))"
      ]
    },
    {
      "cell_type": "markdown",
      "metadata": {
        "id": "422fnb21XcP5"
      },
      "source": [
        "### Off-By-One Errors\n",
        "A logic error known as an off-by-one error occurs when you assume that `range`’s argument value is included in the generated sequence.\n"
      ]
    },
    {
      "cell_type": "code",
      "execution_count": null,
      "metadata": {
        "id": "yTQp8I2BXcP5"
      },
      "outputs": [],
      "source": [
        "for counter in range(5):"
      ]
    },
    {
      "cell_type": "markdown",
      "metadata": {
        "id": "s6-4v5tOXcP5"
      },
      "source": [
        "## Function `range` and 2 arguments\n",
        "* Function `range`’s two-argument version produces a sequence of consecutive integers from its first argument’s value up to, but not including, the second argument’s value\n",
        "* This is useful when we have specific _starting point_ and _stopping point_"
      ]
    },
    {
      "cell_type": "code",
      "execution_count": null,
      "metadata": {
        "id": "8ypaMDtNXcP5"
      },
      "outputs": [],
      "source": [
        "for number in range(5, 10):"
      ]
    },
    {
      "cell_type": "code",
      "execution_count": null,
      "metadata": {
        "id": "i30uqXtdXcP5"
      },
      "outputs": [],
      "source": [
        "mylist2digits = range(10,100)"
      ]
    },
    {
      "cell_type": "markdown",
      "metadata": {
        "id": "HoKnhJZAXcP5"
      },
      "source": [
        "## Function `range` and 3 arguments\n",
        "* Function `range`’s three-argument version produces a sequence of integers from its first argument’s value up to, but not including, the second argument’s value, _incrementing_ by the third argument’s value (the step from one element to the next)\n",
        "* If the third argument is negative, the sequence progresses from the first argument’s value down to, but not including the second argument’s value, decrementing by the third argument’s value"
      ]
    },
    {
      "cell_type": "code",
      "execution_count": null,
      "metadata": {
        "id": "919Pjb2yXcP5"
      },
      "outputs": [],
      "source": [
        "for number in range(0, 20, 2):"
      ]
    },
    {
      "cell_type": "code",
      "execution_count": null,
      "metadata": {
        "id": "SP11MHHcXcP5"
      },
      "outputs": [],
      "source": [
        "for number in range(10, 0, -2):"
      ]
    },
    {
      "cell_type": "markdown",
      "metadata": {
        "id": "cLV9cZYbXcP5"
      },
      "source": [
        "## Embedded Loops\n",
        "Just as we saw the use of nested conditional statements (i.e. \"if within an if\"), we can do similar things by embedding loops."
      ]
    },
    {
      "cell_type": "code",
      "execution_count": null,
      "metadata": {
        "id": "9PWoqn6QXcP5"
      },
      "outputs": [],
      "source": [
        "#Ex: We can create a makeshift times table using two loops: the \"outer\" loop will control rows of the table, while the \"inner\"\n",
        "#loop will control columns\n"
      ]
    },
    {
      "cell_type": "markdown",
      "metadata": {
        "id": "D8jIBGN2XcP5"
      },
      "source": [
        "## Practice 7: Working with Ranges and Loops\n",
        "Using _range_ and _for_ loops, you are to produce the following lists. <br>\n",
        "i. A list of the first 20 squares starting at 1 (i.e. [1, 4, 9, 16, 25] <br>\n",
        "ii. A list of all numbers between 1 and 20 that are **prime** <br>\n",
        "Note that (ii) is tricky, but can be made pretty manageable through the use of a conditional check inside an embedded loop"
      ]
    },
    {
      "cell_type": "code",
      "execution_count": 13,
      "metadata": {
        "colab": {
          "base_uri": "https://localhost:8080/"
        },
        "id": "yW6pU8GcXcP6",
        "outputId": "4adbea79-57b3-4629-ff82-f36f7ac7856c"
      },
      "outputs": [
        {
          "output_type": "stream",
          "name": "stdout",
          "text": [
            "[1, 4, 9, 16, 25, 36, 49, 64, 81, 100, 121, 144, 169, 196, 225, 256, 289, 324, 361, 400]\n"
          ]
        },
        {
          "output_type": "execute_result",
          "data": {
            "text/plain": [
              "[2, 3, 5, 7, 11, 13, 17, 19]"
            ]
          },
          "metadata": {},
          "execution_count": 13
        }
      ],
      "source": [
        "\n",
        "squares = []\n",
        "for i in range(1, 21):\n",
        "  squares.append(i**2)\n",
        "print(squares)\n",
        "\n",
        "\n",
        "primes = []\n",
        "for num in range(2, 21):\n",
        "    is_prime = True\n",
        "    for i in range(2, int(num**0.5) + 1):\n",
        "        if num % i == 0:\n",
        "            is_prime = False\n",
        "            break\n",
        "    if is_prime:\n",
        "        primes.append(num)\n",
        "primes\n"
      ]
    }
  ],
  "metadata": {
    "celltoolbar": "Slideshow",
    "kernelspec": {
      "display_name": "Python 3 (ipykernel)",
      "language": "python",
      "name": "python3"
    },
    "language_info": {
      "codemirror_mode": {
        "name": "ipython",
        "version": 3
      },
      "file_extension": ".py",
      "mimetype": "text/x-python",
      "name": "python",
      "nbconvert_exporter": "python",
      "pygments_lexer": "ipython3",
      "version": "3.9.16"
    },
    "colab": {
      "provenance": [],
      "toc_visible": true,
      "include_colab_link": true
    }
  },
  "nbformat": 4,
  "nbformat_minor": 0
}