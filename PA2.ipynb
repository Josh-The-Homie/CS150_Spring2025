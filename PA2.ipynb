{
  "nbformat": 4,
  "nbformat_minor": 0,
  "metadata": {
    "colab": {
      "provenance": [],
      "authorship_tag": "ABX9TyMVAK3/zK1kVqbT77zzw7ja",
      "include_colab_link": true
    },
    "kernelspec": {
      "name": "python3",
      "display_name": "Python 3"
    },
    "language_info": {
      "name": "python"
    }
  },
  "cells": [
    {
      "cell_type": "markdown",
      "metadata": {
        "id": "view-in-github",
        "colab_type": "text"
      },
      "source": [
        "<a href=\"https://colab.research.google.com/github/Josh-The-Homie/CS150_Spring2025/blob/main/PA2.ipynb\" target=\"_parent\"><img src=\"https://colab.research.google.com/assets/colab-badge.svg\" alt=\"Open In Colab\"/></a>"
      ]
    },
    {
      "cell_type": "markdown",
      "source": [
        "# # Programming Assignment 2\n",
        "# Author: Joshua Henderson\n",
        "# CS150-01 Spring 2025"
      ],
      "metadata": {
        "id": "gB-CdlTR9XGS"
      }
    },
    {
      "cell_type": "code",
      "execution_count": 5,
      "metadata": {
        "colab": {
          "base_uri": "https://localhost:8080/"
        },
        "id": "ohm2aYQO9SJT",
        "outputId": "46a20e1e-ff26-4fe8-ad3c-983ad7f2d2e2"
      },
      "outputs": [
        {
          "output_type": "stream",
          "name": "stdout",
          "text": [
            "My name is Josh, My major is CS, My favorite game is Ark, My hometown is Owensboro\n"
          ]
        }
      ],
      "source": [
        "Name='Josh'\n",
        "Major=\"CS\"\n",
        "Name='Josh'\n",
        "Major=\"CS\"\n",
        "FavoriteGame= \"Ark\"\n",
        "Hometown= \"Owensboro\"\n",
        "print(\"My name is \"+Name+\", My major is \"+Major+\", My favorite game is \"+FavoriteGame+\", My hometown is \"+Hometown)"
      ]
    },
    {
      "cell_type": "code",
      "source": [
        "farenheit_temp = 80\n",
        "\n",
        "celsius_temp = (farenheit_temp - 32) * 5 / 9\n",
        "\n",
        "print(f\"The temperature is {farenheit_temp}°F, which is the equivalent to {celsius_temp}°C.\")\n"
      ],
      "metadata": {
        "colab": {
          "base_uri": "https://localhost:8080/"
        },
        "id": "1NKbDt5u9ztn",
        "outputId": "35dfadfa-776c-46a9-dbeb-e90ecb7548d5"
      },
      "execution_count": 6,
      "outputs": [
        {
          "output_type": "stream",
          "name": "stdout",
          "text": [
            "The temperature is 80°F, which is the equivalent to 26.666666666666668°C.\n"
          ]
        }
      ]
    },
    {
      "cell_type": "code",
      "source": [
        "num1 = 10\n",
        "num2 = 5\n",
        "\n",
        "addition_result = num1 + num2\n",
        "print(f\"Addition: {num1} + {num2} = {addition_result}\")\n",
        "\n",
        "subtraction_result = num1 - num2\n",
        "print(f\"Subtraction: {num1} - {num2} = {subtraction_result}\")\n",
        "\n",
        "multiplication_result = num1 * num2\n",
        "print(f\"Multiplication: {num1} * {num2} = {multiplication_result}\")\n",
        "\n",
        "division_result = num1 / num2\n",
        "print(f\"Division: {num1} / {num2} = {division_result}\")\n"
      ],
      "metadata": {
        "colab": {
          "base_uri": "https://localhost:8080/"
        },
        "id": "dFAHLKFI-aUt",
        "outputId": "10f928da-7997-4873-e757-a75c19f88e08"
      },
      "execution_count": 7,
      "outputs": [
        {
          "output_type": "stream",
          "name": "stdout",
          "text": [
            "Addition: 10 + 5 = 15\n",
            "Subtraction: 10 - 5 = 5\n",
            "Multiplication: 10 * 5 = 50\n",
            "Division: 10 / 5 = 2.0\n"
          ]
        }
      ]
    },
    {
      "cell_type": "code",
      "source": [
        "quote = \"To be or not to be, that is the question.\"\n",
        "\n",
        "\n",
        "print(len(quote))\n",
        "\n",
        "\n",
        "print(quote.upper())\n",
        "print(quote.lower())\n",
        "\n",
        "print(quote.split())\n"
      ],
      "metadata": {
        "colab": {
          "base_uri": "https://localhost:8080/"
        },
        "id": "SQABaQ03-mMx",
        "outputId": "b7cd6838-dea4-42d3-e462-5efe953869f7"
      },
      "execution_count": 8,
      "outputs": [
        {
          "output_type": "stream",
          "name": "stdout",
          "text": [
            "41\n",
            "TO BE OR NOT TO BE, THAT IS THE QUESTION.\n",
            "to be or not to be, that is the question.\n",
            "['To', 'be', 'or', 'not', 'to', 'be,', 'that', 'is', 'the', 'question.']\n"
          ]
        }
      ]
    },
    {
      "cell_type": "code",
      "source": [
        "length = float(input(\"Enter the length of the cuboid: \"))\n",
        "width = float(input(\"Enter the width of the cuboid: \"))\n",
        "height = float(input(\"Enter the height of the cuboid: \"))\n",
        "\n",
        "volume = length * width * height\n",
        "\n",
        "print(f\"The volume of your cuboid is {volume:.2f} units.\")\n"
      ],
      "metadata": {
        "colab": {
          "base_uri": "https://localhost:8080/"
        },
        "id": "Nns9eoMf-wTf",
        "outputId": "b484b379-6b40-40fa-b39d-0c618c507298"
      },
      "execution_count": 10,
      "outputs": [
        {
          "output_type": "stream",
          "name": "stdout",
          "text": [
            "Enter the length of the cuboid: 3\n",
            "Enter the width of the cuboid: 3\n",
            "Enter the height of the cuboid: 3\n",
            "The volume of your cuboid is 27.00 units.\n"
          ]
        }
      ]
    }
  ]
}