{
  "cells": [
    {
      "cell_type": "markdown",
      "metadata": {
        "id": "view-in-github",
        "colab_type": "text"
      },
      "source": [
        "<a href=\"https://colab.research.google.com/github/Josh-The-Homie/CS150_Spring2025/blob/main/Chapter6ClassNB.ipynb\" target=\"_parent\"><img src=\"https://colab.research.google.com/assets/colab-badge.svg\" alt=\"Open In Colab\"/></a>"
      ]
    },
    {
      "cell_type": "markdown",
      "id": "a6b3d32e",
      "metadata": {
        "id": "a6b3d32e"
      },
      "source": [
        "## Dictionaries\n",
        "* A dictionary _associates_ keys with values.\n",
        "* Each key _maps_ to a specific value.\n",
        "* These values can be as simple as primitive objects (integers, bools, etc.), or embedded structures (e.g. lists, other dictionaries) themselves.  "
      ]
    },
    {
      "cell_type": "markdown",
      "id": "4edb9b62",
      "metadata": {
        "id": "4edb9b62"
      },
      "source": [
        "## Examples\n",
        "* For a contact list we may map key **Contact Name** &#8594; value **Phone Number**\n",
        "* For a baseball data collection, we may map key **Player Name** &#8594; value **Batting Average**\n",
        "* For a student gradebook we may map key **Student ID** &#8594; value **List of Grades**"
      ]
    },
    {
      "cell_type": "markdown",
      "id": "9028188e",
      "metadata": {
        "id": "9028188e"
      },
      "source": [
        "### Key Requirements\n",
        "* Keys in any one dictionary must be _immutable_ and _unique_.\n",
        "* Multiple keys can have the same value (e.g mapping a large group of people's SSNs to their first or last names would see many duplicates.)"
      ]
    },
    {
      "cell_type": "markdown",
      "id": "a6835ced",
      "metadata": {
        "id": "a6835ced"
      },
      "source": [
        "## Dictionary Basics\n",
        "* Create a dictionary by enclosing in curly braces, `{}`, a comma-separated list of key–value pairs, each of the form _key_: _value_.\n",
        "* Create an empty dictionary with `{}`.\n",
        "* Dictionaries are _unordered_ collections.\n",
        "* You should generally _not_ write code that depends on the order in which key–value pairs were added."
      ]
    },
    {
      "cell_type": "code",
      "execution_count": null,
      "id": "068ff785",
      "metadata": {
        "id": "068ff785"
      },
      "outputs": [],
      "source": [
        "country_codes = {'Finland': 'fi', 'South Africa': 'za',\n",
        "                  'Nepal': 'np'}\n",
        "print(country_codes)"
      ]
    },
    {
      "cell_type": "markdown",
      "id": "e7bf9506",
      "metadata": {
        "id": "e7bf9506"
      },
      "source": [
        "### Dictionary Length and Empty Dictionaries\n",
        "* We can use the `len` function (returns # of keys) to determine if a dictionary is empty\n",
        "* We can also substitute dictionaries for conditions directly: it will evaluate to `False` if empty and `True` otherwise.\n",
        "* The method `clear` will delete all of a dictionary's keys."
      ]
    },
    {
      "cell_type": "code",
      "execution_count": null,
      "id": "5f55741f",
      "metadata": {
        "id": "5f55741f"
      },
      "outputs": [],
      "source": [
        "empty_dict= {}\n",
        "print(len(country_codes)==0)\n",
        "print(len(empty_dict)==0)\n"
      ]
    },
    {
      "cell_type": "code",
      "execution_count": null,
      "id": "4bb21075",
      "metadata": {
        "id": "4bb21075"
      },
      "outputs": [],
      "source": [
        "if country_codes:\n",
        "    print('country_codes is not empty')\n",
        "else:\n",
        "    print('country_codes is empty')\n",
        "\n",
        "if empty_dict:\n",
        "    print('empty_dict is not empty')\n",
        "else:\n",
        "    print('empty_dict is empty')\n",
        ""
      ]
    },
    {
      "cell_type": "code",
      "execution_count": null,
      "id": "4944351d",
      "metadata": {
        "id": "4944351d"
      },
      "outputs": [],
      "source": [
        "country_codes.clear()\n",
        "if country_codes:\n",
        "    print('country_codes is not empty')\n",
        "else:\n",
        "    print('country_codes is empty')"
      ]
    },
    {
      "cell_type": "markdown",
      "id": "8d3f6e92",
      "metadata": {
        "id": "8d3f6e92"
      },
      "source": [
        "## Dictionary: Element Access and Iteration\n",
        "* Use bracket notation with a key-name to access the corresponding value\n",
        "* We can use dictionary method `keys` to return an iterable of all keys in a dictionary.\n",
        "* Alternatively, dictionary method `items` returns each key–value pair as a tuple.\n",
        "* Either `keys` or `items` is suitable for manipulating key-value pairs, but the latter is generally preferred if both are required."
      ]
    },
    {
      "cell_type": "code",
      "execution_count": null,
      "id": "ed209eec",
      "metadata": {
        "id": "ed209eec"
      },
      "outputs": [],
      "source": [
        "days_per_month = {'January': 31, 'February': 28, 'March': 31}\n",
        "print(days_per_month)"
      ]
    },
    {
      "cell_type": "code",
      "execution_count": null,
      "id": "72059cee",
      "metadata": {
        "id": "72059cee"
      },
      "outputs": [],
      "source": [
        "print(days_per_month['March'])"
      ]
    },
    {
      "cell_type": "code",
      "execution_count": null,
      "id": "8d95f48d",
      "metadata": {
        "id": "8d95f48d"
      },
      "outputs": [],
      "source": [
        "for month in days_per_month.keys():\n",
        "    print(f'{month} has {days_per_month[month]} days.') #Not the most elegant way to do things"
      ]
    },
    {
      "cell_type": "code",
      "execution_count": null,
      "id": "d56f4bb8",
      "metadata": {
        "id": "d56f4bb8"
      },
      "outputs": [],
      "source": [
        "for month, days in days_per_month.items():\n",
        "    print(f'{month} has {days} days.') #Better\n",
        ""
      ]
    },
    {
      "cell_type": "markdown",
      "id": "4f94016d",
      "metadata": {
        "id": "4f94016d"
      },
      "source": [
        "### Adding or Modifying Key–Value Pairs\n",
        "* Bracket notation can _also_ be used to bind a value to a new key.\n",
        "* If used with an existing key-value pair, the value for the given key will be **overwritten**.\n",
        "* Note that String-based keys are _case-sensitive_"
      ]
    },
    {
      "cell_type": "code",
      "execution_count": null,
      "id": "37620c94",
      "metadata": {
        "id": "37620c94"
      },
      "outputs": [],
      "source": [
        "days_per_month['April'] = 31 #Oops -- not the right number of days!\n",
        "print(days_per_month)"
      ]
    },
    {
      "cell_type": "code",
      "execution_count": null,
      "id": "d47e813a",
      "metadata": {
        "id": "d47e813a"
      },
      "outputs": [],
      "source": [
        "days_per_month['APRIL'] = 30 #Trying to fix the error (but ignoring case-sensitivity!)\n",
        "print(days_per_month)"
      ]
    },
    {
      "cell_type": "markdown",
      "id": "8766ec4d",
      "metadata": {
        "id": "8766ec4d"
      },
      "source": [
        "## Practice 1: Matching User Name and Password\n",
        "* Consider the dictionary Login_Info below, which consists of pairings of user names and passwords\n",
        "* You are to simulate a login prompt menu by 1. reading as input a login username and 2. reading as input a login password\n",
        "* You are then to take one of three actions:\n",
        "    1. If the username is invalid (is not a key in the dictionary), you should respond \"Invalid username\"\n",
        "    2. If the username is valid, but the password doesn't match (i.e. invalid key:value pairing) you should respond \"Incorrect password provided\"\n",
        "    3. If the username and password both match, you should print back \"Welcome \\<username\\>\" where \\<username\\> is the input username."
      ]
    },
    {
      "cell_type": "code",
      "execution_count": 1,
      "id": "f2157036",
      "metadata": {
        "colab": {
          "base_uri": "https://localhost:8080/"
        },
        "id": "f2157036",
        "outputId": "13d2e175-56c4-4e3b-9efe-54b094aa356c"
      },
      "outputs": [
        {
          "output_type": "stream",
          "name": "stdout",
          "text": [
            "Enter your username: smsmith01\n",
            "Enter your password: pumpkin\n",
            "Welcome smsmith01\n"
          ]
        }
      ],
      "source": [
        "Login_Info = {'smsmith01':'pumpkin','ajcalvin09':'rosewood','mscalton01':'abc123','tsvalton':'cnthon_resident'}\n",
        "\n",
        "username = input(\"Enter your username: \")\n",
        "password = input(\"Enter your password: \")\n",
        "\n",
        "if username not in Login_Info:\n",
        "  print(\"Invalid username\")\n",
        "elif Login_Info[username] == password:\n",
        "  print(f\"Welcome {username}\")\n",
        "else:\n",
        "  print(\"Incorrect password provided\")\n"
      ]
    },
    {
      "cell_type": "markdown",
      "id": "2887b51b",
      "metadata": {
        "id": "2887b51b"
      },
      "source": [
        "### Removing Key–Value Pairs\n",
        "* `del` can be used to delete a key.\n",
        "* `pop` can be used to remove and _return_ the value for a given key."
      ]
    },
    {
      "cell_type": "code",
      "execution_count": null,
      "id": "f483c388",
      "metadata": {
        "id": "f483c388"
      },
      "outputs": [],
      "source": [
        "del(days_per_month['April'])\n",
        "print(days_per_month)"
      ]
    },
    {
      "cell_type": "code",
      "execution_count": null,
      "id": "1ce712de",
      "metadata": {
        "id": "1ce712de"
      },
      "outputs": [],
      "source": [
        "print(days_per_month.pop('APRIL'))\n",
        "print(days_per_month)"
      ]
    },
    {
      "cell_type": "markdown",
      "id": "da10d434",
      "metadata": {
        "id": "da10d434"
      },
      "source": [
        "### `get` and Nonexistent Keys\n",
        "* Trying to directly index a non-existent key with brackets produces a `KeyError`\n",
        "* Method **`get`** returns its argument’s corresponding value in a dictionary or `None` if the key is not found.\n",
        "* Note that if you don't explicitly use an output statement like `print` IPython will not display anything for `None`.\n",
        "* `get` with a second argument returns the second argument if the key is not found."
      ]
    },
    {
      "cell_type": "code",
      "execution_count": null,
      "id": "044c7399",
      "metadata": {
        "id": "044c7399"
      },
      "outputs": [],
      "source": [
        "days_per_month['May']"
      ]
    },
    {
      "cell_type": "code",
      "execution_count": null,
      "id": "686df46b",
      "metadata": {
        "id": "686df46b"
      },
      "outputs": [],
      "source": [
        "days_per_month.get('March')"
      ]
    },
    {
      "cell_type": "code",
      "execution_count": null,
      "id": "a5e28367",
      "metadata": {
        "id": "a5e28367"
      },
      "outputs": [],
      "source": [
        "if days_per_month.get('May'): gGet can be used with one argument in a simple if-else statement\n",
        "    print('That month exists in the dictionary')\n",
        "else:\n",
        "    print('That month does not exist in the dictionary')"
      ]
    },
    {
      "cell_type": "code",
      "execution_count": null,
      "id": "f586b09c",
      "metadata": {
        "id": "f586b09c"
      },
      "outputs": [],
      "source": [
        "print(days_per_month.get('May','May not in dictionary!')) #Or we can use the two-argument form of get"
      ]
    },
    {
      "cell_type": "markdown",
      "id": "74d7207e",
      "metadata": {
        "id": "74d7207e"
      },
      "source": [
        "## Practice 2: Letting a User Interact With a Dictionary\n",
        "* You are to give a user limited interaction with the dictionary _favcolors_ from a command prompt as follows:\n",
        "    The user will provide an input key, and an input value.\n",
        "    1. If the key does not exist in the dictionary at all, a new key:value pairing will be added using the input key and value\n",
        "    2. If the key does exist in the dictionary and an empty string is provided for the value (i.e. by simply pressing \\<enter\\>) then the corresponding key will be deleted from the dictionary.\n",
        "    3. If the key does exist in the dictionary and a non-empty string is provided for the value then the get operation will be used to simply retrieve the associated value, which is then printed.\n",
        "* Regardless of the operation chosen, the dictionary _favcolors_ should be printed at the end of the operation."
      ]
    },
    {
      "cell_type": "code",
      "execution_count": 2,
      "id": "ec3c5e3b",
      "metadata": {
        "id": "ec3c5e3b"
      },
      "outputs": [],
      "source": [
        "favcolors = {'Alice':'Red','Cid':'Blue','Hui':'Orange'}"
      ]
    },
    {
      "cell_type": "code",
      "execution_count": 3,
      "id": "ad716f6c",
      "metadata": {
        "colab": {
          "base_uri": "https://localhost:8080/",
          "height": 481
        },
        "id": "ad716f6c",
        "outputId": "86448926-4286-4fbc-d31a-f2c6f085344a"
      },
      "outputs": [
        {
          "output_type": "stream",
          "name": "stdout",
          "text": [
            "Enter a key: Alice\n",
            "Enter a value: 9\n",
            "Red\n",
            "Enter a key: Cid\n",
            "Enter a value: Blue\n",
            "Blue\n"
          ]
        },
        {
          "output_type": "error",
          "ename": "KeyboardInterrupt",
          "evalue": "Interrupted by user",
          "traceback": [
            "\u001b[0;31m---------------------------------------------------------------------------\u001b[0m",
            "\u001b[0;31mKeyboardInterrupt\u001b[0m                         Traceback (most recent call last)",
            "\u001b[0;32m<ipython-input-3-68e3ae652247>\u001b[0m in \u001b[0;36m<cell line: 0>\u001b[0;34m()\u001b[0m\n\u001b[1;32m      2\u001b[0m \u001b[0;34m\u001b[0m\u001b[0m\n\u001b[1;32m      3\u001b[0m \u001b[0;32mwhile\u001b[0m \u001b[0;32mTrue\u001b[0m\u001b[0;34m:\u001b[0m\u001b[0;34m\u001b[0m\u001b[0;34m\u001b[0m\u001b[0m\n\u001b[0;32m----> 4\u001b[0;31m   \u001b[0mkey\u001b[0m \u001b[0;34m=\u001b[0m \u001b[0minput\u001b[0m\u001b[0;34m(\u001b[0m\u001b[0;34m\"Enter a key: \"\u001b[0m\u001b[0;34m)\u001b[0m\u001b[0;34m\u001b[0m\u001b[0;34m\u001b[0m\u001b[0m\n\u001b[0m\u001b[1;32m      5\u001b[0m   \u001b[0mvalue\u001b[0m \u001b[0;34m=\u001b[0m \u001b[0minput\u001b[0m\u001b[0;34m(\u001b[0m\u001b[0;34m\"Enter a value: \"\u001b[0m\u001b[0;34m)\u001b[0m\u001b[0;34m\u001b[0m\u001b[0;34m\u001b[0m\u001b[0m\n\u001b[1;32m      6\u001b[0m \u001b[0;34m\u001b[0m\u001b[0m\n",
            "\u001b[0;32m/usr/local/lib/python3.11/dist-packages/ipykernel/kernelbase.py\u001b[0m in \u001b[0;36mraw_input\u001b[0;34m(self, prompt)\u001b[0m\n\u001b[1;32m   1175\u001b[0m                 \u001b[0;34m\"raw_input was called, but this frontend does not support input requests.\"\u001b[0m\u001b[0;34m\u001b[0m\u001b[0;34m\u001b[0m\u001b[0m\n\u001b[1;32m   1176\u001b[0m             )\n\u001b[0;32m-> 1177\u001b[0;31m         return self._input_request(\n\u001b[0m\u001b[1;32m   1178\u001b[0m             \u001b[0mstr\u001b[0m\u001b[0;34m(\u001b[0m\u001b[0mprompt\u001b[0m\u001b[0;34m)\u001b[0m\u001b[0;34m,\u001b[0m\u001b[0;34m\u001b[0m\u001b[0;34m\u001b[0m\u001b[0m\n\u001b[1;32m   1179\u001b[0m             \u001b[0mself\u001b[0m\u001b[0;34m.\u001b[0m\u001b[0m_parent_ident\u001b[0m\u001b[0;34m[\u001b[0m\u001b[0;34m\"shell\"\u001b[0m\u001b[0;34m]\u001b[0m\u001b[0;34m,\u001b[0m\u001b[0;34m\u001b[0m\u001b[0;34m\u001b[0m\u001b[0m\n",
            "\u001b[0;32m/usr/local/lib/python3.11/dist-packages/ipykernel/kernelbase.py\u001b[0m in \u001b[0;36m_input_request\u001b[0;34m(self, prompt, ident, parent, password)\u001b[0m\n\u001b[1;32m   1217\u001b[0m             \u001b[0;32mexcept\u001b[0m \u001b[0mKeyboardInterrupt\u001b[0m\u001b[0;34m:\u001b[0m\u001b[0;34m\u001b[0m\u001b[0;34m\u001b[0m\u001b[0m\n\u001b[1;32m   1218\u001b[0m                 \u001b[0;31m# re-raise KeyboardInterrupt, to truncate traceback\u001b[0m\u001b[0;34m\u001b[0m\u001b[0;34m\u001b[0m\u001b[0m\n\u001b[0;32m-> 1219\u001b[0;31m                 \u001b[0;32mraise\u001b[0m \u001b[0mKeyboardInterrupt\u001b[0m\u001b[0;34m(\u001b[0m\u001b[0;34m\"Interrupted by user\"\u001b[0m\u001b[0;34m)\u001b[0m \u001b[0;32mfrom\u001b[0m \u001b[0;32mNone\u001b[0m\u001b[0;34m\u001b[0m\u001b[0;34m\u001b[0m\u001b[0m\n\u001b[0m\u001b[1;32m   1220\u001b[0m             \u001b[0;32mexcept\u001b[0m \u001b[0mException\u001b[0m\u001b[0;34m:\u001b[0m\u001b[0;34m\u001b[0m\u001b[0;34m\u001b[0m\u001b[0m\n\u001b[1;32m   1221\u001b[0m                 \u001b[0mself\u001b[0m\u001b[0;34m.\u001b[0m\u001b[0mlog\u001b[0m\u001b[0;34m.\u001b[0m\u001b[0mwarning\u001b[0m\u001b[0;34m(\u001b[0m\u001b[0;34m\"Invalid Message:\"\u001b[0m\u001b[0;34m,\u001b[0m \u001b[0mexc_info\u001b[0m\u001b[0;34m=\u001b[0m\u001b[0;32mTrue\u001b[0m\u001b[0;34m)\u001b[0m\u001b[0;34m\u001b[0m\u001b[0;34m\u001b[0m\u001b[0m\n",
            "\u001b[0;31mKeyboardInterrupt\u001b[0m: Interrupted by user"
          ]
        }
      ],
      "source": [
        "favcolors = {'Alice':'Red','Cid':'Blue','Hui':'Orange'}\n",
        "\n",
        "while True:\n",
        "  key = input(\"Enter a key: \")\n",
        "  value = input(\"Enter a value: \")\n",
        "\n",
        "  if key not in favcolors:\n",
        "    favcolors[key] = value\n",
        "  elif value == \"\":\n",
        "    del favcolors[key]\n",
        "  else:\n",
        "    print(favcolors.get(key))\n",
        "\n",
        "favcolors\n"
      ]
    },
    {
      "cell_type": "markdown",
      "id": "bf29eaec",
      "metadata": {
        "id": "bf29eaec"
      },
      "source": [
        "## Another Way to Think About Dictionaries and Lists\n",
        "![image.png](attachment:image.png)"
      ]
    },
    {
      "cell_type": "markdown",
      "id": "cd9bcbe2",
      "metadata": {
        "id": "cd9bcbe2"
      },
      "source": [
        "### Testing Whether a Dictionary Contains a Specified Key\n",
        "* We can use the familiar `in` to check whether a given key exists in a dictionary.\n",
        "* Note that this will _not_ work for verifying if a specific value is present.\n",
        "* We can, however, use the method `values` to return an iterable of type `dict_values` and test these for a specific value."
      ]
    },
    {
      "cell_type": "code",
      "execution_count": null,
      "id": "7d2de06c",
      "metadata": {
        "id": "7d2de06c"
      },
      "outputs": [],
      "source": [
        "days_per_month = {'January':31, 'February':28, 'March': 31}\n",
        "print('January' in days_per_month)\n",
        "print('August' in days_per_month)\n",
        "print(31 in days_per_month)"
      ]
    },
    {
      "cell_type": "code",
      "execution_count": null,
      "id": "c4c81d19",
      "metadata": {
        "id": "c4c81d19"
      },
      "outputs": [],
      "source": [
        "print(31 in days_per_month.values())\n",
        "print(days_per_month.values())"
      ]
    },
    {
      "cell_type": "markdown",
      "id": "c9d5b3f6",
      "metadata": {
        "id": "c9d5b3f6"
      },
      "source": [
        "### Dictionary Views\n",
        "* Methods `items`, `keys` and `values` each return a **view** of a dictionary’s data.\n",
        "* When you iterate over a **`view`**, it “sees” the dictionary’s **current contents**—it does **not** have its own copy of the data.\n",
        "* This bears some similarity to lazy evaluation -- but it's really closer to having a \"cursor\" perspective on the dictionary."
      ]
    },
    {
      "cell_type": "markdown",
      "id": "97dd24eb",
      "metadata": {
        "id": "97dd24eb"
      },
      "source": [
        "### Converting Dictionary Keys, Values and Key–Value Pairs to Lists\n",
        "* The function `list` is a **constructor**.\n",
        "* A constructor takes an argument (or possibly no arguments at all) and creates a new object of the type associated with the constructor name (i.e. in this case \"list\")\n",
        "* The `list` constructor can take any iterable object (tuple, string, even dictionary-based iterables)"
      ]
    },
    {
      "cell_type": "code",
      "execution_count": null,
      "id": "8e43ed6b",
      "metadata": {
        "id": "8e43ed6b"
      },
      "outputs": [],
      "source": [
        "empty_list = []\n",
        "print(empty_list)"
      ]
    },
    {
      "cell_type": "code",
      "execution_count": null,
      "id": "0c894a02",
      "metadata": {
        "id": "0c894a02"
      },
      "outputs": [],
      "source": [
        "months = {'January':1,'February':2,'March':3}\n",
        "monthnames=list(months.keys())\n",
        "print(monthnames)\n"
      ]
    },
    {
      "cell_type": "code",
      "execution_count": null,
      "id": "415a84f9",
      "metadata": {
        "id": "415a84f9"
      },
      "outputs": [],
      "source": [
        "monthnums=list(months.values())\n",
        "print(monthnums)"
      ]
    },
    {
      "cell_type": "code",
      "execution_count": null,
      "id": "c7e63966",
      "metadata": {
        "id": "c7e63966"
      },
      "outputs": [],
      "source": [
        "month_tlist = list(months.items())\n",
        "print(month_tlist)"
      ]
    },
    {
      "cell_type": "markdown",
      "id": "b6ec7100",
      "metadata": {
        "id": "b6ec7100"
      },
      "source": [
        "### Processing Keys in Sorted Order\n",
        "* The safest way to retrieve keys in sorted order is to run the `sorted` function on the keys, which will return an in-order iterable based on element type.\n",
        "* We can use the same strategy to obtain values corresponding to the sorted key order."
      ]
    },
    {
      "cell_type": "code",
      "execution_count": null,
      "id": "f728659a",
      "metadata": {
        "id": "f728659a"
      },
      "outputs": [],
      "source": [
        "#Print the months in alphabetical order\n",
        "for month_name in sorted(months.keys()):\n",
        "     print(month_name, end='  ')"
      ]
    },
    {
      "cell_type": "code",
      "execution_count": null,
      "id": "6293af80",
      "metadata": {
        "id": "6293af80"
      },
      "outputs": [],
      "source": [
        "#Print the values corresponding to this sorted order.\n",
        "for month_name in sorted(months.keys()):\n",
        "     print(months[month_name], end='  ')"
      ]
    },
    {
      "cell_type": "markdown",
      "id": "6e9ef35c",
      "metadata": {
        "id": "6e9ef35c"
      },
      "source": [
        "## Dictionary Comparisons\n",
        "* `==` is `True` if both dictionaries have the same key–value pairs, **_regardless_ of the order in which those key–value pairs were added to each dictionary**."
      ]
    },
    {
      "cell_type": "code",
      "execution_count": null,
      "id": "fb1cd719",
      "metadata": {
        "id": "fb1cd719"
      },
      "outputs": [],
      "source": [
        "country_capitals1 = {'Belgium': 'Brussels',\n",
        "                     'Haiti': 'Port-au-Prince'}\n",
        "\n",
        "country_capitals2 = {'Nepal': 'Kathmandu',\n",
        "                     'Uruguay': 'Montevideo'}\n",
        "\n",
        "country_capitals3 = {'Haiti': 'Port-au-Prince',\n",
        "                     'Belgium': 'Brussels'}\n",
        ""
      ]
    },
    {
      "cell_type": "code",
      "execution_count": null,
      "id": "2a2e169d",
      "metadata": {
        "id": "2a2e169d"
      },
      "outputs": [],
      "source": [
        "print(country_capitals1 == country_capitals2)\n",
        "print(country_capitals1 == country_capitals3)\n",
        "print(country_capitals2 == country_capitals3)\n"
      ]
    },
    {
      "cell_type": "markdown",
      "id": "dfc88ba8",
      "metadata": {
        "id": "dfc88ba8"
      },
      "source": [
        "## Practice 3: Dictionary of Student Grades\n",
        "* Remember that dictionary _values_ can themselves be collections\n",
        "* For this practice you are to create code that will do the following for **3 different students in a row**.\n",
        "    1. Read in as input the student's name\n",
        "    2. Read in as input exactly two exam grades (presumably mid-term and final) and store them in a list\n",
        "    3. Create dictionary entry mapping the student's name (key) to the list of grades (value)\n",
        "* At the end of the process, you should have a dictionary with three entries (one per student)."
      ]
    },
    {
      "cell_type": "code",
      "source": [
        "student_grades = {}\n",
        "\n",
        "for _ in range(3):\n",
        "  student_name = input(\"Enter student's name: \")\n",
        "  grades = []\n",
        "  for _ in range(2):\n",
        "    grade = int(input(\"Enter exam grade: \"))\n",
        "    grades.append(grade)\n",
        "  student_grades[student_name] = grades\n",
        "\n",
        "student_grades\n"
      ],
      "metadata": {
        "colab": {
          "base_uri": "https://localhost:8080/",
          "height": 445
        },
        "id": "RiKtvYT1rrwV",
        "outputId": "634c1864-6a83-4eff-c240-b6cc915736aa"
      },
      "id": "RiKtvYT1rrwV",
      "execution_count": 5,
      "outputs": [
        {
          "name": "stdout",
          "output_type": "stream",
          "text": [
            "Enter student's name: j\n",
            "Enter exam grade: 8\n",
            "Enter exam grade: 9\n",
            "Enter student's name: j\n"
          ]
        },
        {
          "output_type": "error",
          "ename": "KeyboardInterrupt",
          "evalue": "Interrupted by user",
          "traceback": [
            "\u001b[0;31m---------------------------------------------------------------------------\u001b[0m",
            "\u001b[0;31mKeyboardInterrupt\u001b[0m                         Traceback (most recent call last)",
            "\u001b[0;32m<ipython-input-5-7e852b66451d>\u001b[0m in \u001b[0;36m<cell line: 0>\u001b[0;34m()\u001b[0m\n\u001b[1;32m      5\u001b[0m   \u001b[0mgrades\u001b[0m \u001b[0;34m=\u001b[0m \u001b[0;34m[\u001b[0m\u001b[0;34m]\u001b[0m\u001b[0;34m\u001b[0m\u001b[0;34m\u001b[0m\u001b[0m\n\u001b[1;32m      6\u001b[0m   \u001b[0;32mfor\u001b[0m \u001b[0m_\u001b[0m \u001b[0;32min\u001b[0m \u001b[0mrange\u001b[0m\u001b[0;34m(\u001b[0m\u001b[0;36m2\u001b[0m\u001b[0;34m)\u001b[0m\u001b[0;34m:\u001b[0m\u001b[0;34m\u001b[0m\u001b[0;34m\u001b[0m\u001b[0m\n\u001b[0;32m----> 7\u001b[0;31m     \u001b[0mgrade\u001b[0m \u001b[0;34m=\u001b[0m \u001b[0mint\u001b[0m\u001b[0;34m(\u001b[0m\u001b[0minput\u001b[0m\u001b[0;34m(\u001b[0m\u001b[0;34m\"Enter exam grade: \"\u001b[0m\u001b[0;34m)\u001b[0m\u001b[0;34m)\u001b[0m\u001b[0;34m\u001b[0m\u001b[0;34m\u001b[0m\u001b[0m\n\u001b[0m\u001b[1;32m      8\u001b[0m     \u001b[0mgrades\u001b[0m\u001b[0;34m.\u001b[0m\u001b[0mappend\u001b[0m\u001b[0;34m(\u001b[0m\u001b[0mgrade\u001b[0m\u001b[0;34m)\u001b[0m\u001b[0;34m\u001b[0m\u001b[0;34m\u001b[0m\u001b[0m\n\u001b[1;32m      9\u001b[0m   \u001b[0mstudent_grades\u001b[0m\u001b[0;34m[\u001b[0m\u001b[0mstudent_name\u001b[0m\u001b[0;34m]\u001b[0m \u001b[0;34m=\u001b[0m \u001b[0mgrades\u001b[0m\u001b[0;34m\u001b[0m\u001b[0;34m\u001b[0m\u001b[0m\n",
            "\u001b[0;32m/usr/local/lib/python3.11/dist-packages/ipykernel/kernelbase.py\u001b[0m in \u001b[0;36mraw_input\u001b[0;34m(self, prompt)\u001b[0m\n\u001b[1;32m   1175\u001b[0m                 \u001b[0;34m\"raw_input was called, but this frontend does not support input requests.\"\u001b[0m\u001b[0;34m\u001b[0m\u001b[0;34m\u001b[0m\u001b[0m\n\u001b[1;32m   1176\u001b[0m             )\n\u001b[0;32m-> 1177\u001b[0;31m         return self._input_request(\n\u001b[0m\u001b[1;32m   1178\u001b[0m             \u001b[0mstr\u001b[0m\u001b[0;34m(\u001b[0m\u001b[0mprompt\u001b[0m\u001b[0;34m)\u001b[0m\u001b[0;34m,\u001b[0m\u001b[0;34m\u001b[0m\u001b[0;34m\u001b[0m\u001b[0m\n\u001b[1;32m   1179\u001b[0m             \u001b[0mself\u001b[0m\u001b[0;34m.\u001b[0m\u001b[0m_parent_ident\u001b[0m\u001b[0;34m[\u001b[0m\u001b[0;34m\"shell\"\u001b[0m\u001b[0;34m]\u001b[0m\u001b[0;34m,\u001b[0m\u001b[0;34m\u001b[0m\u001b[0;34m\u001b[0m\u001b[0m\n",
            "\u001b[0;32m/usr/local/lib/python3.11/dist-packages/ipykernel/kernelbase.py\u001b[0m in \u001b[0;36m_input_request\u001b[0;34m(self, prompt, ident, parent, password)\u001b[0m\n\u001b[1;32m   1217\u001b[0m             \u001b[0;32mexcept\u001b[0m \u001b[0mKeyboardInterrupt\u001b[0m\u001b[0;34m:\u001b[0m\u001b[0;34m\u001b[0m\u001b[0;34m\u001b[0m\u001b[0m\n\u001b[1;32m   1218\u001b[0m                 \u001b[0;31m# re-raise KeyboardInterrupt, to truncate traceback\u001b[0m\u001b[0;34m\u001b[0m\u001b[0;34m\u001b[0m\u001b[0m\n\u001b[0;32m-> 1219\u001b[0;31m                 \u001b[0;32mraise\u001b[0m \u001b[0mKeyboardInterrupt\u001b[0m\u001b[0;34m(\u001b[0m\u001b[0;34m\"Interrupted by user\"\u001b[0m\u001b[0;34m)\u001b[0m \u001b[0;32mfrom\u001b[0m \u001b[0;32mNone\u001b[0m\u001b[0;34m\u001b[0m\u001b[0;34m\u001b[0m\u001b[0m\n\u001b[0m\u001b[1;32m   1220\u001b[0m             \u001b[0;32mexcept\u001b[0m \u001b[0mException\u001b[0m\u001b[0;34m:\u001b[0m\u001b[0;34m\u001b[0m\u001b[0;34m\u001b[0m\u001b[0m\n\u001b[1;32m   1221\u001b[0m                 \u001b[0mself\u001b[0m\u001b[0;34m.\u001b[0m\u001b[0mlog\u001b[0m\u001b[0;34m.\u001b[0m\u001b[0mwarning\u001b[0m\u001b[0;34m(\u001b[0m\u001b[0;34m\"Invalid Message:\"\u001b[0m\u001b[0;34m,\u001b[0m \u001b[0mexc_info\u001b[0m\u001b[0;34m=\u001b[0m\u001b[0;32mTrue\u001b[0m\u001b[0;34m)\u001b[0m\u001b[0;34m\u001b[0m\u001b[0;34m\u001b[0m\u001b[0m\n",
            "\u001b[0;31mKeyboardInterrupt\u001b[0m: Interrupted by user"
          ]
        }
      ]
    },
    {
      "cell_type": "code",
      "source": [
        "student_grades"
      ],
      "metadata": {
        "colab": {
          "base_uri": "https://localhost:8080/"
        },
        "id": "1RCYcvzHsF0n",
        "outputId": "5d796610-5f32-4d00-e3f4-4372299e9b30"
      },
      "id": "1RCYcvzHsF0n",
      "execution_count": 6,
      "outputs": [
        {
          "output_type": "execute_result",
          "data": {
            "text/plain": [
              "{'j': [8, 9]}"
            ]
          },
          "metadata": {},
          "execution_count": 6
        }
      ]
    },
    {
      "cell_type": "markdown",
      "id": "7a7ca045",
      "metadata": {
        "id": "7a7ca045"
      },
      "source": [
        "## Dictionary Method `update`\n",
        "* `update` can insert and update key–value pairs.\n",
        "* `update` can receive an iterable object containing key–value pairs, such as a list of two-element tuples, and add each one in turn.\n",
        "* `update` can even use an existing dictionary as an argument"
      ]
    },
    {
      "cell_type": "code",
      "execution_count": null,
      "id": "b38a6d1b",
      "metadata": {
        "id": "b38a6d1b"
      },
      "outputs": [],
      "source": [
        "country_codes = {}\n",
        "country_codes.update([('France','fr'),('Germany','de'),('Italy','it')])\n",
        "\n",
        "print(country_codes)"
      ]
    },
    {
      "cell_type": "code",
      "execution_count": null,
      "id": "584145d6",
      "metadata": {
        "id": "584145d6"
      },
      "outputs": [],
      "source": [
        "country_codes.update(Australia='ar') #But this value is incorrect.\n",
        "country_codes.update(Australia='au')\n",
        "print(country_codes)"
      ]
    },
    {
      "cell_type": "code",
      "execution_count": null,
      "id": "852f188d",
      "metadata": {
        "id": "852f188d"
      },
      "outputs": [],
      "source": [
        "country_codes.update({'South Africa': 'za', 'United States': 'us'})\n",
        "print(country_codes)"
      ]
    },
    {
      "cell_type": "markdown",
      "id": "72ac0c95",
      "metadata": {
        "id": "72ac0c95"
      },
      "source": [
        "## Dictionary Comprehensions\n",
        "* Dictionary comprehensions provide convenient notation for quickly generating dictionaries, often by **mapping** one dictionary to another.\n",
        "* The expression to the left of the `for` clause specifies a **key–value pair of the form _key_`:` _value_**.\n",
        "* In a dictionary with **_unique_ values**, you can **reverse** the key–value pair mappings.\n",
        "* A dictionary comprehension also can map a dictionary’s values to new values."
      ]
    },
    {
      "cell_type": "code",
      "execution_count": null,
      "id": "07f24a78",
      "metadata": {
        "id": "07f24a78"
      },
      "outputs": [],
      "source": [
        "months_namekey = {'January': 1, 'February': 2, 'March': 3}\n",
        "months_numkey = {number: name for name, number in months_namekey.items()}\n",
        "print(months_namekey)\n",
        "print(months_numkey)\n"
      ]
    },
    {
      "cell_type": "code",
      "execution_count": null,
      "id": "34208b8d",
      "metadata": {
        "id": "34208b8d"
      },
      "outputs": [],
      "source": [
        "grades = {'Sue': [98, 87, 94], 'Bob': [84, 95, 91]}\n",
        "gradesavg = {k: sum(v) / len(v) for k, v in grades.items()}\n",
        "print(gradesavg)"
      ]
    },
    {
      "cell_type": "code",
      "execution_count": null,
      "id": "23e4fcc3",
      "metadata": {
        "id": "23e4fcc3"
      },
      "outputs": [],
      "source": []
    },
    {
      "cell_type": "markdown",
      "id": "39cef700",
      "metadata": {
        "id": "39cef700"
      },
      "source": [
        "## Practice 4: Word Counts\n",
        "* Counting is a process easily accomodated with dictionaries.\n",
        "    * When a new element (word, number, etc.) is encountered, a new key-value pair is created with the element as the key, and initial quantity of 1 being the value.\n",
        "    * When an already seen key is encountered, its associated value is incremented by 1.\n",
        "* Below is a script that builds a dictionary to count the number of occurrences of each word in a string.\n",
        "* The `split` method is used to create an iterable that separates words in the text by white-space."
      ]
    },
    {
      "cell_type": "code",
      "execution_count": null,
      "id": "3ed072a0",
      "metadata": {
        "id": "3ed072a0"
      },
      "outputs": [],
      "source": [
        "text = 'this is sample text with several words with letters ' + \\\n",
        "        'this is more sample text with some different words with letters'\n",
        "\n",
        "word_counts = {}\n",
        "\n"
      ]
    },
    {
      "cell_type": "markdown",
      "id": "410248e8",
      "metadata": {
        "id": "410248e8"
      },
      "source": [
        "### Python Standard Library Class Counter\n",
        "* The Python Standard Library already contains the counting functionality shown above.\n",
        "* A **`Counter`** is a customized dictionary that receives an iterable and summarizes its elements.\n",
        "* This serves as another reminder that you may already find the functionality you need in Python with a little bit of effort  (AKA \"don't reinvent the wheel\")"
      ]
    },
    {
      "cell_type": "code",
      "execution_count": null,
      "id": "18856f0e",
      "metadata": {
        "id": "18856f0e"
      },
      "outputs": [],
      "source": [
        "from collections import Counter\n",
        "text = 'this is sample text with several words with letters ' + \\\n",
        "        'this is more sample text with some different words with letters'\n",
        "counter = Counter(text.split())\n",
        "for word, count in sorted(counter.items()):\n",
        "    print(f'{word:<12}{count}')\n",
        "\n",
        "print('\\nNumber of unique words:', len(counter))"
      ]
    },
    {
      "cell_type": "code",
      "execution_count": null,
      "id": "dc046ff7",
      "metadata": {
        "id": "dc046ff7"
      },
      "outputs": [],
      "source": [
        "text"
      ]
    },
    {
      "cell_type": "code",
      "execution_count": null,
      "id": "180e9268",
      "metadata": {
        "id": "180e9268"
      },
      "outputs": [],
      "source": []
    }
  ],
  "metadata": {
    "kernelspec": {
      "display_name": "Python 3 (ipykernel)",
      "language": "python",
      "name": "python3"
    },
    "language_info": {
      "codemirror_mode": {
        "name": "ipython",
        "version": 3
      },
      "file_extension": ".py",
      "mimetype": "text/x-python",
      "name": "python",
      "nbconvert_exporter": "python",
      "pygments_lexer": "ipython3",
      "version": "3.9.16"
    },
    "colab": {
      "provenance": [],
      "include_colab_link": true
    }
  },
  "nbformat": 4,
  "nbformat_minor": 5
}