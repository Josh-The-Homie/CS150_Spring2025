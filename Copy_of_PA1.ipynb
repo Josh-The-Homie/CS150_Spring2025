{
  "nbformat": 4,
  "nbformat_minor": 0,
  "metadata": {
    "colab": {
      "provenance": []
    },
    "kernelspec": {
      "name": "python3",
      "display_name": "Python 3"
    },
    "language_info": {
      "name": "python"
    }
  },
  "cells": [
    {
      "cell_type": "markdown",
      "source": [
        "# Joshua Henderson - Markdown Practice\n",
        "\n",
        "### CS student that likes videogames.\n",
        "\n",
        "\n",
        "\n",
        "*   The ability to develop computer programs to\n",
        "solve problems\n",
        "*   Proficiency with operating systems and\n",
        "computer networks\n",
        "*   Competence in the design and development of\n",
        "software engineering tools.\n",
        "*   Understanding of contemporary issues in\n",
        "translators\n",
        "\n",
        "1.   Module 1: Course Introduction (Chapter 1), Variables and Simple Data Types (Chapter 2)\n",
        "2.   Module 2: Lists and Tuples Part 1 (Chapter 3),Lists and Tuples Part 1 (Chapter 3) Continued\n",
        "3. Module 3: If Statements (Chapter 5)\n",
        "4.\n",
        "Module 4: Loops (Chapter 7)\n",
        "5. Module 5: Lists and Tuples Part 2 (Chapter 4)\n",
        "6.\n",
        "Module 6: Dictionaries (Chapter 6)\n",
        "7.\n",
        "Module 7: Sets, Functions, Libraries (Chapter 8)\n",
        "8. \tModule 8: Class Datatypes and Exceptions (Chapter 9, Chapter 10)\n",
        "9.\n",
        "Module 9: NumPy Arrays (Supplemental)\n",
        "10. Module 10: Pandas and Files Excerpt (Supplemental, Chapter 10)\n",
        "\n",
        "\n",
        "**PYTHON**\n",
        "*Google Colab*\n",
        "\n",
        " `I did this homework.`\n",
        " https://github.com/Josh-The-Homie/CS150_Spring2025\n",
        " ![BELLARMINE.png](data:image/png;base64,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)"
      ],
      "metadata": {
        "id": "ETtwevtZSJqS"
      }
    },
    {
      "cell_type": "markdown",
      "source": [
        "I learned how to italicize, bold, and highlight text. Everything else is something I knew how to do."
      ],
      "metadata": {
        "id": "oP6Sh9eoDxCq"
      }
    }
  ]
}