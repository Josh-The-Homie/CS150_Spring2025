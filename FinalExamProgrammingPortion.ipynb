{
  "cells": [
    {
      "cell_type": "markdown",
      "metadata": {
        "id": "view-in-github",
        "colab_type": "text"
      },
      "source": [
        "<a href=\"https://colab.research.google.com/github/Josh-The-Homie/CS150_Spring2025/blob/main/FinalExamProgrammingPortion.ipynb\" target=\"_parent\"><img src=\"https://colab.research.google.com/assets/colab-badge.svg\" alt=\"Open In Colab\"/></a>"
      ]
    },
    {
      "cell_type": "markdown",
      "id": "4dad1e94-3706-410f-b3d5-4ed22d779551",
      "metadata": {
        "id": "4dad1e94-3706-410f-b3d5-4ed22d779551"
      },
      "source": [
        "Problem 1: You are to write function **game_summary(team1score,team2score)**, which is to take as input the scores for two teams who have competed in a game and _prints_ the following information about the game:\n",
        "1. Who won (Should be \"Team 1 wins\" if team1score > team2score, \"Team 2 wins\" if team1score < team2score, or \"Tie\" if the scores are equal.\n",
        "2. Score differential (difference between the two scores, must be positive)\n",
        "3. Cumulative Score (combined score of the two teams)\n",
        "4. Whether or not either or both teams were shut out (a team is shut out if it scores 0 points\n",
        "\n",
        "Ex 1: game_summary(17, 22) should print the following: <br> _Team1 wins_<br> _Score Differential of 5_<br> _Cumulative Score of 39_ <br> _No teams were shut out._ <br>\n",
        "\n",
        "Ex 2: game_summary(0, 0) should print the following: <br> _Tie_<br> _Score Differential of 0_<br> _Cumulative Score of 0_ <br> _Both teams were shut out._\n"
      ]
    },
    {
      "cell_type": "code",
      "execution_count": 6,
      "id": "a70db339-5d59-4393-a686-450e79791671",
      "metadata": {
        "colab": {
          "base_uri": "https://localhost:8080/",
          "height": 372
        },
        "id": "a70db339-5d59-4393-a686-450e79791671",
        "outputId": "85e6a10f-0b53-4212-8961-aebadec6a819"
      },
      "outputs": [
        {
          "output_type": "error",
          "ename": "KeyboardInterrupt",
          "evalue": "Interrupted by user",
          "traceback": [
            "\u001b[0;31m---------------------------------------------------------------------------\u001b[0m",
            "\u001b[0;31mKeyboardInterrupt\u001b[0m                         Traceback (most recent call last)",
            "\u001b[0;32m<ipython-input-6-d9d5660a874c>\u001b[0m in \u001b[0;36m<cell line: 0>\u001b[0;34m()\u001b[0m\n\u001b[1;32m     25\u001b[0m \u001b[0;34m\u001b[0m\u001b[0m\n\u001b[1;32m     26\u001b[0m \u001b[0;31m# Get user input\u001b[0m\u001b[0;34m\u001b[0m\u001b[0;34m\u001b[0m\u001b[0m\n\u001b[0;32m---> 27\u001b[0;31m \u001b[0mteam1score\u001b[0m \u001b[0;34m=\u001b[0m \u001b[0mint\u001b[0m\u001b[0;34m(\u001b[0m\u001b[0minput\u001b[0m\u001b[0;34m(\u001b[0m\u001b[0;34m\"Enter Team 1's score: \"\u001b[0m\u001b[0;34m)\u001b[0m\u001b[0;34m)\u001b[0m\u001b[0;34m\u001b[0m\u001b[0;34m\u001b[0m\u001b[0m\n\u001b[0m\u001b[1;32m     28\u001b[0m \u001b[0mteam2score\u001b[0m \u001b[0;34m=\u001b[0m \u001b[0mint\u001b[0m\u001b[0;34m(\u001b[0m\u001b[0minput\u001b[0m\u001b[0;34m(\u001b[0m\u001b[0;34m\"Enter Team 2's score: \"\u001b[0m\u001b[0;34m)\u001b[0m\u001b[0;34m)\u001b[0m\u001b[0;34m\u001b[0m\u001b[0;34m\u001b[0m\u001b[0m\n\u001b[1;32m     29\u001b[0m \u001b[0;34m\u001b[0m\u001b[0m\n",
            "\u001b[0;32m/usr/local/lib/python3.11/dist-packages/ipykernel/kernelbase.py\u001b[0m in \u001b[0;36mraw_input\u001b[0;34m(self, prompt)\u001b[0m\n\u001b[1;32m   1175\u001b[0m                 \u001b[0;34m\"raw_input was called, but this frontend does not support input requests.\"\u001b[0m\u001b[0;34m\u001b[0m\u001b[0;34m\u001b[0m\u001b[0m\n\u001b[1;32m   1176\u001b[0m             )\n\u001b[0;32m-> 1177\u001b[0;31m         return self._input_request(\n\u001b[0m\u001b[1;32m   1178\u001b[0m             \u001b[0mstr\u001b[0m\u001b[0;34m(\u001b[0m\u001b[0mprompt\u001b[0m\u001b[0;34m)\u001b[0m\u001b[0;34m,\u001b[0m\u001b[0;34m\u001b[0m\u001b[0;34m\u001b[0m\u001b[0m\n\u001b[1;32m   1179\u001b[0m             \u001b[0mself\u001b[0m\u001b[0;34m.\u001b[0m\u001b[0m_parent_ident\u001b[0m\u001b[0;34m[\u001b[0m\u001b[0;34m\"shell\"\u001b[0m\u001b[0;34m]\u001b[0m\u001b[0;34m,\u001b[0m\u001b[0;34m\u001b[0m\u001b[0;34m\u001b[0m\u001b[0m\n",
            "\u001b[0;32m/usr/local/lib/python3.11/dist-packages/ipykernel/kernelbase.py\u001b[0m in \u001b[0;36m_input_request\u001b[0;34m(self, prompt, ident, parent, password)\u001b[0m\n\u001b[1;32m   1217\u001b[0m             \u001b[0;32mexcept\u001b[0m \u001b[0mKeyboardInterrupt\u001b[0m\u001b[0;34m:\u001b[0m\u001b[0;34m\u001b[0m\u001b[0;34m\u001b[0m\u001b[0m\n\u001b[1;32m   1218\u001b[0m                 \u001b[0;31m# re-raise KeyboardInterrupt, to truncate traceback\u001b[0m\u001b[0;34m\u001b[0m\u001b[0;34m\u001b[0m\u001b[0m\n\u001b[0;32m-> 1219\u001b[0;31m                 \u001b[0;32mraise\u001b[0m \u001b[0mKeyboardInterrupt\u001b[0m\u001b[0;34m(\u001b[0m\u001b[0;34m\"Interrupted by user\"\u001b[0m\u001b[0;34m)\u001b[0m \u001b[0;32mfrom\u001b[0m \u001b[0;32mNone\u001b[0m\u001b[0;34m\u001b[0m\u001b[0;34m\u001b[0m\u001b[0m\n\u001b[0m\u001b[1;32m   1220\u001b[0m             \u001b[0;32mexcept\u001b[0m \u001b[0mException\u001b[0m\u001b[0;34m:\u001b[0m\u001b[0;34m\u001b[0m\u001b[0;34m\u001b[0m\u001b[0m\n\u001b[1;32m   1221\u001b[0m                 \u001b[0mself\u001b[0m\u001b[0;34m.\u001b[0m\u001b[0mlog\u001b[0m\u001b[0;34m.\u001b[0m\u001b[0mwarning\u001b[0m\u001b[0;34m(\u001b[0m\u001b[0;34m\"Invalid Message:\"\u001b[0m\u001b[0;34m,\u001b[0m \u001b[0mexc_info\u001b[0m\u001b[0;34m=\u001b[0m\u001b[0;32mTrue\u001b[0m\u001b[0;34m)\u001b[0m\u001b[0;34m\u001b[0m\u001b[0;34m\u001b[0m\u001b[0m\n",
            "\u001b[0;31mKeyboardInterrupt\u001b[0m: Interrupted by user"
          ]
        }
      ],
      "source": [
        "def game_summary(team1score, team2score):\n",
        "    # Determine the winner\n",
        "    if team1score > team2score:\n",
        "        print(\"Team 1 wins\")\n",
        "    elif team1score < team2score:\n",
        "        print(\"Team 2 wins\")\n",
        "    else:\n",
        "        print(\"Tie\")\n",
        "\n",
        "    # Calculate score differential\n",
        "    score_diff = abs(team1score - team2score)\n",
        "    print(f\"Score Differential of {score_diff}\")\n",
        "\n",
        "    # Calculate cumulative score\n",
        "    cumulative_score = team1score + team2score\n",
        "    print(f\"Cumulative Score of {cumulative_score}\")\n",
        "\n",
        "    # Check for shutouts\n",
        "    if team1score == 0 and team2score == 0:\n",
        "        print(\"Both teams were shut out.\")\n",
        "    elif team1score == 0 or team2score == 0:\n",
        "        print(\"One team was shut out.\")\n",
        "    else:\n",
        "        print(\"No teams were shut out.\")\n",
        "\n",
        "# Get user input\n",
        "team1score = int(input(\"Enter Team 1's score: \"))\n",
        "team2score = int(input(\"Enter Team 2's score: \"))\n",
        "\n",
        "# Call the function\n",
        "game_summary(team1score, team2score)\n"
      ]
    },
    {
      "cell_type": "markdown",
      "id": "a65e086b-cb74-4040-893f-f69c905fa520",
      "metadata": {
        "id": "a65e086b-cb74-4040-893f-f69c905fa520"
      },
      "source": [
        "Problem 2: You are to write code to do the following (Note: you _can_ use a function here, but it's not necessary to do so):<br>\n",
        "Take as keyboard input _up to 7_ strings from a user (the user can enter \"Q\" or similar to stop early) and print the following:\n",
        "1. The total sum of characters _across all of the strings_\n",
        "2. The shortest of the strings\n",
        "3. The longest of the strings\n",
        "4. The number of times the string \"Hello\" appears among the ones that are entered.\n",
        "<br> <br> Ex: Assume the following strings are entered from the keyboard:\n",
        "<br>_Please input up to 7 strings (\"Q\" to stop early): Hello_\n",
        "<br>_Please input up to 7 strings (\"Q\" to stop early): Investments_\n",
        "<br>_Please input up to 7 strings (\"Q\" to stop early): Hello_\n",
        "<br>_Please input up to 7 strings (\"Q\" to stop early): Retirement_\n",
        "<br>_Please input up to 7 strings (\"Q\" to stop early): Gold_\n",
        "<br>_Please input up to 7 strings (\"Q\" to stop early): Q_\n",
        "<br><br> The output will be:\n",
        "<br> _A total of 35 characters were input_\n",
        "<br> _The shortest string is \"Gold\"_\n",
        "<br> _The longest string is \"Investments\"_\n",
        "<br> _\"Hello\" appears twice among the input strings._"
      ]
    },
    {
      "cell_type": "code",
      "execution_count": 5,
      "id": "57fccdf8-be50-41cf-93d6-b7e7f97002e2",
      "metadata": {
        "colab": {
          "base_uri": "https://localhost:8080/"
        },
        "id": "57fccdf8-be50-41cf-93d6-b7e7f97002e2",
        "outputId": "fe034b76-df6c-473c-c948-7d710dd26e87"
      },
      "outputs": [
        {
          "output_type": "stream",
          "name": "stdout",
          "text": [
            "Please input up to 7 strings (\"Q\" to stop early): o\n",
            "Please input up to 7 strings (\"Q\" to stop early): u\n",
            "Please input up to 7 strings (\"Q\" to stop early): y\n",
            "Please input up to 7 strings (\"Q\" to stop early): j\n",
            "Please input up to 7 strings (\"Q\" to stop early): g\n",
            "Please input up to 7 strings (\"Q\" to stop early): j\n",
            "Please input up to 7 strings (\"Q\" to stop early): k\n",
            "A total of 7 characters were input\n",
            "The shortest string is \"o\"\n",
            "The longest string is \"o\"\n",
            "\"Hello\" appears 0 times among the input strings.\n"
          ]
        }
      ],
      "source": [
        "# Initialize an empty list to store the strings\n",
        "strings = []\n",
        "\n",
        "# Loop to take up to 7 inputs\n",
        "for _ in range(7):\n",
        "    user_input = input('Please input up to 7 strings (\"Q\" to stop early): ')\n",
        "    if user_input == \"Q\":\n",
        "        break\n",
        "    strings.append(user_input)\n",
        "\n",
        "# Calculate the total number of characters\n",
        "total_chars = sum(len(s) for s in strings)\n",
        "\n",
        "# Find the shortest and longest strings\n",
        "if strings:\n",
        "    shortest = min(strings, key=len)\n",
        "    longest = max(strings, key=len)\n",
        "else:\n",
        "    shortest = \"\"\n",
        "    longest = \"\"\n",
        "\n",
        "# Count how many times \"Hello\" appears\n",
        "hello_count = strings.count(\"Hello\")\n",
        "\n",
        "# Print the results\n",
        "print(f\"A total of {total_chars} characters were input\")\n",
        "print(f'The shortest string is \"{shortest}\"')\n",
        "print(f'The longest string is \"{longest}\"')\n",
        "print(f'\"Hello\" appears {hello_count} times among the input strings.')\n"
      ]
    }
  ],
  "metadata": {
    "kernelspec": {
      "display_name": "Python 3 (ipykernel)",
      "language": "python",
      "name": "python3"
    },
    "language_info": {
      "codemirror_mode": {
        "name": "ipython",
        "version": 3
      },
      "file_extension": ".py",
      "mimetype": "text/x-python",
      "name": "python",
      "nbconvert_exporter": "python",
      "pygments_lexer": "ipython3",
      "version": "3.12.4"
    },
    "colab": {
      "provenance": [],
      "include_colab_link": true
    }
  },
  "nbformat": 4,
  "nbformat_minor": 5
}